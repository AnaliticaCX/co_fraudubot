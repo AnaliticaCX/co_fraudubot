{
  "cells": [
    {
      "cell_type": "code",
      "execution_count": null,
      "metadata": {
        "id": "RxZX0-GeWVmL"
      },
      "outputs": [
        {
          "name": "stdout",
          "output_type": "stream",
          "text": [
            "zsh:1: command not found: apt-get\n",
            "zsh:1: command not found: apt-get\n",
            "zsh:1: command not found: tesseract\n",
            "Password:\n",
            "sudo: a password is required\n"
          ]
        }
      ],
      "source": [
        "#!pip install pillow\n",
        "!apt-get install -y tesseract-ocr\n",
        "#!pip install pytesseract\n",
        "!apt-get install -y libtesseract-dev\n",
        "!tesseract --version\n",
        "!sudo apt install tesseract-ocr-spa\n",
        "\n",
        "pip install --upgrade google-api-python-client google-auth google-auth-httplib2 google-auth-oauthlib\n"
      ]
    },
    {
      "cell_type": "code",
      "execution_count": 6,
      "metadata": {
        "colab": {
          "base_uri": "https://localhost:8080/",
          "height": 73
        },
        "id": "JUAxPQpuWtfk",
        "outputId": "127f63cc-607b-4f4c-c2f9-c2d441559d33"
      },
      "outputs": [
        {
          "ename": "ModuleNotFoundError",
          "evalue": "No module named 'google.colab'",
          "output_type": "error",
          "traceback": [
            "\u001b[0;31m---------------------------------------------------------------------------\u001b[0m",
            "\u001b[0;31mModuleNotFoundError\u001b[0m                       Traceback (most recent call last)",
            "Cell \u001b[0;32mIn[6], line 1\u001b[0m\n\u001b[0;32m----> 1\u001b[0m \u001b[38;5;28;01mfrom\u001b[39;00m\u001b[38;5;250m \u001b[39m\u001b[38;5;21;01mgoogle\u001b[39;00m\u001b[38;5;21;01m.\u001b[39;00m\u001b[38;5;21;01mcolab\u001b[39;00m\u001b[38;5;250m \u001b[39m\u001b[38;5;28;01mimport\u001b[39;00m files\n\u001b[1;32m      3\u001b[0m cargando_cartas \u001b[38;5;241m=\u001b[39m files\u001b[38;5;241m.\u001b[39mupload()\n",
            "\u001b[0;31mModuleNotFoundError\u001b[0m: No module named 'google.colab'"
          ]
        }
      ],
      "source": [
        "from google.colab import files\n",
        "\n",
        "cargando_cartas = files.upload()"
      ]
    },
    {
      "cell_type": "code",
      "execution_count": 4,
      "metadata": {
        "colab": {
          "base_uri": "https://localhost:8080/"
        },
        "id": "o8kUtZ_ZW1x_",
        "outputId": "ef22fa8a-0364-48c5-acdc-9f3f127be96a"
      },
      "outputs": [
        {
          "name": "stdout",
          "output_type": "stream",
          "text": [
            "['.config', 'Carta2.jpeg', 'sample_data']\n"
          ]
        }
      ],
      "source": [
        "import os\n",
        "\n",
        "# Archivos\n",
        "print(os.listdir())"
      ]
    },
    {
      "cell_type": "code",
      "execution_count": 5,
      "metadata": {
        "colab": {
          "base_uri": "https://localhost:8080/"
        },
        "id": "KkCb0M8OXH58",
        "outputId": "0ef49f42-f02f-41b1-c99f-063e09be0b4e"
      },
      "outputs": [
        {
          "name": "stdout",
          "output_type": "stream",
          "text": [
            "Texto extraído:\n",
            " \n",
            "\n",
            "ECO FASTTERsas 9\n",
            "\n",
            "Nit. 901.084,271-8 t\n",
            "\n",
            "LA DIRECTORA DE RECURSOS HUMANOS\n",
            "HACE CONSTAR;\n",
            "\n",
            "Que el señor (a) JOAQUIN ALONSO OQUENDO BUSTAMANTE, Identificado\n",
            "con cedula de ciudadanía N* 1.007.285,143 expedida en El Bagre - Antioquia,\n",
            "se encuentra vinculado laboralmente con nuestra compañía mediante contrato\n",
            "laboral en los siguientes términos:\n",
            "\n",
            "Cargo que desempeña: Oficial de construcción.\n",
            "\n",
            "Fecha de vinculación: Trece (13) días del mes de Marzo del año dos mil\n",
            "dieciocho (2018),\n",
            "\n",
            "Clase de contrato: Por obra o labor realizada\n",
            "\n",
            "Ingresos mensuales en 2018: Un millón Trescientos mil pesos\n",
            "(51.300.000.00) MíLegal, más bonificaciones de quinientos mil pesos\n",
            "($500.000.00), por producción de metas.\n",
            "\n",
            "Nota: El pago de estas bonificaciones se otorgan según cumplimientos de\n",
            "metas y de programación de la obra, pudiendo variar según la entrega de obras\n",
            "en tiempos más cortos, los montos son pactados de mutuo acuerdo entre las\n",
            "partes, no siendo base salarial de acuerdo al art. 128 del Código Sustantivo del\n",
            "Trabajo, slendo quinientos cincuenta y cinco mil seiscientos cincuenta pesos\n",
            "(5636.192.00), el cien por ciento como máximo para el beneficio,\n",
            "\n",
            "El proyecto donde laboramos actualmente está ubicado Kilómetro 2.5 sobre la\n",
            "\n",
            "variante Cajicá - Zipaquirá, contrato firmado con el Grupo Empresarial OIKOS.\n",
            "SAS.\n",
            "\n",
            "La presente se expide a solicitud del trabajador a los veintiocho (28) días del\n",
            "Mes de Septiembre de dos mil dieciocho (2.018)\n",
            "\n",
            "Cordialmente.\n",
            "\n",
            " \n",
            "\n",
            " \n",
            "\n",
            " \n",
            "\n",
            "Oficina: Carrera 38 No, 9-45 Oficina 535 Bogotá - Colombia\n",
            "Móvil: 03 3108652766 - 03 3007479422\n",
            "Emall ecofastter/MgmalLcom.\n",
            "\n",
            " \n",
            "\f\n"
          ]
        }
      ],
      "source": [
        "from PIL import Image\n",
        "import pytesseract\n",
        "\n",
        "# Procesar una carta en imagen\n",
        "texto = pytesseract.image_to_string(Image.open(\"Carta2.jpeg\"), lang=\"spa\")\n",
        "print(\"Texto extraído:\")\n",
        "print(texto)"
      ]
    },
    {
      "cell_type": "code",
      "execution_count": 6,
      "metadata": {
        "colab": {
          "base_uri": "https://localhost:8080/"
        },
        "id": "DaQpZU8pXnR7",
        "outputId": "774cbabf-c1ee-4fce-82b5-bb11c06c12d7"
      },
      "outputs": [
        {
          "name": "stdout",
          "output_type": "stream",
          "text": [
            "Texto extraído de Carta2.jpeg guardado.\n"
          ]
        }
      ],
      "source": [
        "#---------------------------- Carpeta de salida para los textos\n",
        "os.makedirs(\"textos\", exist_ok=True)\n",
        "\n",
        "#---------------------------- Procesar todas las imágenes en el entorno\n",
        "for archivo in os.listdir():\n",
        "    if archivo.endswith(\".jpeg\") or archivo.endswith(\".jpg\"):\n",
        "        texto = pytesseract.image_to_string(Image.open(archivo), lang=\"spa\")\n",
        "        with open(f\"textos/{os.path.splitext(archivo)[0]}.txt\", \"w\", encoding=\"utf-8\") as salida:\n",
        "            salida.write(texto)\n",
        "        print(f\"Texto extraído de {archivo} guardado.\")"
      ]
    },
    {
      "cell_type": "code",
      "execution_count": 7,
      "metadata": {
        "colab": {
          "base_uri": "https://localhost:8080/",
          "height": 52
        },
        "id": "z9i-CAxjYtFV",
        "outputId": "a1a0f01f-813a-40b7-afae-1274b35ff17e"
      },
      "outputs": [
        {
          "name": "stdout",
          "output_type": "stream",
          "text": [
            "  adding: textos/ (stored 0%)\n",
            "  adding: textos/Carta2.txt (deflated 40%)\n"
          ]
        },
        {
          "data": {
            "application/javascript": "\n    async function download(id, filename, size) {\n      if (!google.colab.kernel.accessAllowed) {\n        return;\n      }\n      const div = document.createElement('div');\n      const label = document.createElement('label');\n      label.textContent = `Downloading \"${filename}\": `;\n      div.appendChild(label);\n      const progress = document.createElement('progress');\n      progress.max = size;\n      div.appendChild(progress);\n      document.body.appendChild(div);\n\n      const buffers = [];\n      let downloaded = 0;\n\n      const channel = await google.colab.kernel.comms.open(id);\n      // Send a message to notify the kernel that we're ready.\n      channel.send({})\n\n      for await (const message of channel.messages) {\n        // Send a message to notify the kernel that we're ready.\n        channel.send({})\n        if (message.buffers) {\n          for (const buffer of message.buffers) {\n            buffers.push(buffer);\n            downloaded += buffer.byteLength;\n            progress.value = downloaded;\n          }\n        }\n      }\n      const blob = new Blob(buffers, {type: 'application/binary'});\n      const a = document.createElement('a');\n      a.href = window.URL.createObjectURL(blob);\n      a.download = filename;\n      div.appendChild(a);\n      a.click();\n      div.remove();\n    }\n  ",
            "text/plain": [
              "<IPython.core.display.Javascript object>"
            ]
          },
          "metadata": {},
          "output_type": "display_data"
        },
        {
          "data": {
            "application/javascript": "download(\"download_a6894cc3-8ac7-4135-9955-639149bd518e\", \"textos_extraidos.zip\", 1291)",
            "text/plain": [
              "<IPython.core.display.Javascript object>"
            ]
          },
          "metadata": {},
          "output_type": "display_data"
        }
      ],
      "source": [
        "# Comprimir todos los textos en un archivo ZIP\n",
        "!zip -r textos_extraidos.zip textos\n",
        "\n",
        "# Descargar el ZIP\n",
        "files.download(\"textos_extraidos.zip\")"
      ]
    },
    {
      "cell_type": "code",
      "execution_count": 8,
      "metadata": {
        "colab": {
          "base_uri": "https://localhost:8080/"
        },
        "id": "hhEdMBDsZIbs",
        "outputId": "1d2080eb-ed8b-43a7-e4d8-f2781ce4eaaa"
      },
      "outputs": [
        {
          "name": "stdout",
          "output_type": "stream",
          "text": [
            "Se han cargado 1 archivos de texto.\n"
          ]
        }
      ],
      "source": [
        "# Directorio\n",
        "carpeta_textos = \"textos\"\n",
        "\n",
        "# Lista para almacenar los textos limpios\n",
        "textos_limpios = []\n",
        "\n",
        "# Leer cada archivo de texto\n",
        "for archivo in os.listdir(carpeta_textos):\n",
        "    if archivo.endswith(\".txt\"):\n",
        "        ruta = os.path.join(carpeta_textos, archivo)\n",
        "        with open(ruta, \"r\", encoding=\"utf-8\") as f:\n",
        "            texto = f.read()\n",
        "            textos_limpios.append(texto)\n",
        "\n",
        "print(f\"Se han cargado {len(textos_limpios)} archivos de texto.\")"
      ]
    },
    {
      "cell_type": "code",
      "execution_count": null,
      "metadata": {
        "colab": {
          "base_uri": "https://localhost:8080/"
        },
        "id": "p27Sy5Xyc17h",
        "outputId": "4505939a-f54d-4eef-aff1-336183d027dd"
      },
      "outputs": [
        {
          "data": {
            "text/plain": [
              "['An,\\n\\na\\n\\n   \\n\\n>) DISTRIBUIDORA BONILLA PINILLA LTDA\\n\\nCERTIFICACIÓN LABORAL\\n\\nSe certifica que el señor PARRA RODRIGUEZ JUAN ANDRES identificado con\\ncédula de identidad N” 1.012.428.156 de Bogotá, labora en nuestra\\ncompañía, desempeñando el cargo de Auxiliar de Entrega, devengando un\\nsalario mensual de $ 822.300, más $ 77.700 de Auxilio de Transporte,\\n\\nvinculado mediante contrato de trabajo obra o labor desde el 3 de agosto de\\n2015 a la fecha.\\n\\nA solicitud del interesado se expide en la ciudad de Bogotá D.C., a los veinte\\n(20) días del mes de Octubre de 2016.\\n\\nAtentamente,\\n\\nMARÍA LUCELLY MARTINEZ\\n\\nGERENTE\\n\\nDISTRIBUIDORA BONILLA PINILLA LTDA\\nNIT 800239135-5\\n\\nCalle N* 20 4 A-90 INT. 3 APTO. 302-TELEFAN277[MBEeCES: 310 305 5822-3410 305 5817\\n\\nE-MAIL: distbonillapin,farEyahoo.com\\n\\x0c',\n",
              " ' \\n\\nECO FASTTERsas 9\\n\\nNit. 901.084,271-8 t\\n\\nLA DIRECTORA DE RECURSOS HUMANOS\\nHACE CONSTAR;\\n\\nQue el señor (a) JOAQUIN ALONSO OQUENDO BUSTAMANTE, Identificado\\ncon cedula de ciudadanía N* 1.007.285,143 expedida en El Bagre - Antioquia,\\nse encuentra vinculado laboralmente con nuestra compañía mediante contrato\\nlaboral en los siguientes términos:\\n\\nCargo que desempeña: Oficial de construcción.\\n\\nFecha de vinculación: Trece (13) días del mes de Marzo del año dos mil\\ndieciocho (2018),\\n\\nClase de contrato: Por obra o labor realizada\\n\\nIngresos mensuales en 2018: Un millón Trescientos mil pesos\\n(51.300.000.00) MíLegal, más bonificaciones de quinientos mil pesos\\n($500.000.00), por producción de metas.\\n\\nNota: El pago de estas bonificaciones se otorgan según cumplimientos de\\nmetas y de programación de la obra, pudiendo variar según la entrega de obras\\nen tiempos más cortos, los montos son pactados de mutuo acuerdo entre las\\npartes, no siendo base salarial de acuerdo al art. 128 del Código Sustantivo del\\nTrabajo, slendo quinientos cincuenta y cinco mil seiscientos cincuenta pesos\\n(5636.192.00), el cien por ciento como máximo para el beneficio,\\n\\nEl proyecto donde laboramos actualmente está ubicado Kilómetro 2.5 sobre la\\n\\nvariante Cajicá - Zipaquirá, contrato firmado con el Grupo Empresarial OIKOS.\\nSAS.\\n\\nLa presente se expide a solicitud del trabajador a los veintiocho (28) días del\\nMes de Septiembre de dos mil dieciocho (2.018)\\n\\nCordialmente.\\n\\n \\n\\n \\n\\n \\n\\nOficina: Carrera 38 No, 9-45 Oficina 535 Bogotá - Colombia\\nMóvil: 03 3108652766 - 03 3007479422\\nEmall ecofastter/MgmalLcom.\\n\\n \\n\\x0c']"
            ]
          },
          "execution_count": 11,
          "metadata": {},
          "output_type": "execute_result"
        }
      ],
      "source": [
        "textos_limpios"
      ]
    },
    {
      "cell_type": "code",
      "execution_count": 9,
      "metadata": {
        "id": "H7jKBqqFZK6-"
      },
      "outputs": [],
      "source": [
        "import re\n",
        "import string\n",
        "\n",
        "def limpiar_texto(texto):\n",
        "    #-----------Convertir a minúsculas\n",
        "    texto = texto.lower()\n",
        "\n",
        "    ##texto = re.sub(r'[^a-záéíóúñ\\s0-9$.,]', '', texto)\n",
        "\n",
        "    #-----------Eliminar múltiples espacios y saltos de línea\n",
        "    texto = re.sub(r'\\s+', ' ', texto).strip()\n",
        "\n",
        "    # reemplazar \"0\" por \"o\"\n",
        "    # texto = texto.replace('0', 'o')\n",
        "\n",
        "    return texto"
      ]
    },
    {
      "cell_type": "code",
      "execution_count": 10,
      "metadata": {
        "colab": {
          "base_uri": "https://localhost:8080/"
        },
        "id": "KARPOezLZSUb",
        "outputId": "543f9f7a-4366-427b-dac3-cb7c0efd7901"
      },
      "outputs": [
        {
          "name": "stdout",
          "output_type": "stream",
          "text": [
            "\n",
            "--- Texto limpio 1 ---\n",
            "eco fasttersas 9 nit. 901.084,271-8 t la directora de recursos humanos hace constar; que el señor (a) joaquin alonso oquendo bustamante, identificado con cedula de ciudadanía n* 1.007.285,143 expedida en el bagre - antioquia, se encuentra vinculado laboralmente con nuestra compañía mediante contrato laboral en los siguientes términos: cargo que desempeña: oficial de construcción. fecha de vinculación: trece (13) días del mes de marzo del año dos mil dieciocho (2018), clase de contrato: por obra o labor realizada ingresos mensuales en 2018: un millón trescientos mil pesos (51.300.000.00) mílegal, más bonificaciones de quinientos mil pesos ($500.000.00), por producción de metas. nota: el pago de estas bonificaciones se otorgan según cumplimientos de metas y de programación de la obra, pudiendo variar según la entrega de obras en tiempos más cortos, los montos son pactados de mutuo acuerdo entre las partes, no siendo base salarial de acuerdo al art. 128 del código sustantivo del trabajo, slendo quinientos cincuenta y cinco mil seiscientos cincuenta pesos (5636.192.00), el cien por ciento como máximo para el beneficio, el proyecto donde laboramos actualmente está ubicado kilómetro 2.5 sobre la variante cajicá - zipaquirá, contrato firmado con el grupo empresarial oikos. sas. la presente se expide a solicitud del trabajador a los veintiocho (28) días del mes de septiembre de dos mil dieciocho (2.018) cordialmente. oficina: carrera 38 no, 9-45 oficina 535 bogotá - colombia móvil: 03 3108652766 - 03 3007479422 emall ecofastter/mgmallcom.\n",
            "\n"
          ]
        }
      ],
      "source": [
        "textos_limpios = [limpiar_texto(texto) for texto in textos_limpios]\n",
        "\n",
        "for i, texto in enumerate(textos_limpios[:2], 1):\n",
        "    print(f\"\\n--- Texto limpio {i} ---\\n{texto}\\n\")"
      ]
    },
    {
      "cell_type": "code",
      "execution_count": null,
      "metadata": {
        "colab": {
          "base_uri": "https://localhost:8080/"
        },
        "id": "kwVdBBafZW_o",
        "outputId": "d0f386e3-f8ce-48e5-d0b5-4d01b68c215c"
      },
      "outputs": [
        {
          "name": "stdout",
          "output_type": "stream",
          "text": [
            "Todos los textos limpios han sido guardados en la carpeta 'textos_limpios'.\n"
          ]
        }
      ],
      "source": [
        "# Crear una carpeta para los textos limpios\n",
        "carpeta_limpios = \"textos_limpios\"\n",
        "os.makedirs(carpeta_limpios, exist_ok=True)\n",
        "\n",
        "# Guardar cada texto limpio en un nuevo archivo\n",
        "for i, texto in enumerate(textos_limpios, 1):\n",
        "    nombre_archivo = f\"texto_limpio_{i}.txt\"\n",
        "    ruta = os.path.join(carpeta_limpios, nombre_archivo)\n",
        "    with open(ruta, \"w\", encoding=\"utf-8\") as f:\n",
        "        f.write(texto)\n",
        "\n",
        "print(\"Todos los textos limpios han sido guardados en la carpeta 'textos_limpios'.\")"
      ]
    },
    {
      "cell_type": "code",
      "execution_count": null,
      "metadata": {
        "id": "VuqVhKc_bejf"
      },
      "outputs": [],
      "source": [
        "!python -m spacy download es_core_news_sm"
      ]
    },
    {
      "cell_type": "code",
      "execution_count": 12,
      "metadata": {
        "id": "VUKFNhYwbiLW"
      },
      "outputs": [],
      "source": [
        "import spacy\n",
        "nlp = spacy.load(\"es_core_news_sm\")"
      ]
    },
    {
      "cell_type": "code",
      "execution_count": 13,
      "metadata": {
        "colab": {
          "base_uri": "https://localhost:8080/"
        },
        "id": "A7Obj_D7alXY",
        "outputId": "3e61f3e1-45ca-4950-827a-9bc35b427f5b"
      },
      "outputs": [
        {
          "name": "stdout",
          "output_type": "stream",
          "text": [
            "{'nombre': 'joaquin alonso oquendo bustamante', 'cargo': 'oficial de construcción', 'salario': '2018', 'empresa': 'mediante contrato laboral en los siguientes términos'}\n"
          ]
        }
      ],
      "source": [
        "# Cargar modelo en español de modelo\n",
        "nlp = spacy.load(\"es_core_news_sm\")\n",
        "\n",
        "def preprocesar_texto(texto):\n",
        "    texto = texto.lower()\n",
        "    ##texto = re.sub(r'[^a-záéíóúñ\\s\\d$.,:]', '', texto)\n",
        "    return texto\n",
        "\n",
        "def extraer_datos_hibrido(texto):\n",
        "    texto = preprocesar_texto(texto)\n",
        "    doc = nlp(texto)\n",
        "\n",
        "    datos = {\n",
        "        \"nombre\": None,\n",
        "        \"cargo\": None,\n",
        "        \"salario\": None,\n",
        "        \"empresa\": None,\n",
        "    }\n",
        "\n",
        "    # Expresiones R para capturar salario\n",
        "    salario = re.search(r'ingresos mensuales.*?\\$?([\\d.,]+)', texto)\n",
        "    if salario:\n",
        "        datos[\"salario\"] = salario.group(1).strip()\n",
        "\n",
        "    # spacy\n",
        "    for ent in doc.ents:\n",
        "        if ent.label_ == \"PER\":\n",
        "            datos[\"nombre\"] = ent.text\n",
        "        elif ent.label_ == \"ORG\":\n",
        "            datos[\"empresa\"] = ent.text\n",
        "        elif ent.label_ == \"MONEY\":\n",
        "            datos[\"salario\"] = ent.text\n",
        "\n",
        "    # Usar palabras clave para buscar el cargo =)\n",
        "    match_cargo = re.search(r'cargo que desempeña[:\\s]([a-záéíóúñ\\s]+)', texto)\n",
        "    if match_cargo:\n",
        "        datos[\"cargo\"] = match_cargo.group(1).strip()\n",
        "    if not datos[\"empresa\"]:\n",
        "        # Buscar patrones que identifiquen \"compañía\", \"empresa\" o \"contrato firmado con\"\n",
        "        match_empresa = re.search(r'(compañía|empresa|contrato firmado con)[:\\s]+([a-záéíóúñ\\s]+)', texto.lower())\n",
        "    if match_empresa:\n",
        "       datos[\"empresa\"] = match_empresa.group(2).strip()\n",
        "\n",
        "    return datos\n",
        "\n",
        "informacion = extraer_datos_hibrido(texto)\n",
        "print(informacion)\n"
      ]
    },
    {
      "cell_type": "code",
      "execution_count": null,
      "metadata": {
        "colab": {
          "base_uri": "https://localhost:8080/",
          "height": 122
        },
        "id": "xzIg45p5b_6Z",
        "outputId": "1c1cc76c-2479-4f86-da51-96ad88e1d225"
      },
      "outputs": [
        {
          "data": {
            "application/vnd.google.colaboratory.intrinsic+json": {
              "type": "string"
            },
            "text/plain": [
              "'eco fasttersas 9 nit. 901.084,271-8 t la directora de recursos humanos hace constar; que el señor (a) joaquin alonso oquendo bustamante, identificado con cedula de ciudadanía n* 1.007.285,143 expedida en el bagre - antioquia, se encuentra vinculado laboralmente con nuestra compañía mediante contrato laboral en los siguientes términos: cargo que desempeña: oficial de construcción. fecha de vinculación: trece (13) días del mes de marzo del año dos mil dieciocho (2018), clase de contrato: por obra o labor realizada ingresos mensuales en 2018: un millón trescientos mil pesos (51.300.000.00) mílegal, más bonificaciones de quinientos mil pesos ($500.000.00), por producción de metas. nota: el pago de estas bonificaciones se otorgan según cumplimientos de metas y de programación de la obra, pudiendo variar según la entrega de obras en tiempos más cortos, los montos son pactados de mutuo acuerdo entre las partes, no siendo base salarial de acuerdo al art. 128 del código sustantivo del trabajo, slendo quinientos cincuenta y cinco mil seiscientos cincuenta pesos (5636.192.00), el cien por ciento como máximo para el beneficio, el proyecto donde laboramos actualmente está ubicado kilómetro 2.5 sobre la variante cajicá - zipaquirá, contrato firmado con el grupo empresarial oikos. sas. la presente se expide a solicitud del trabajador a los veintiocho (28) días del mes de septiembre de dos mil dieciocho (2.018) cordialmente. oficina: carrera 38 no, 9-45 oficina 535 bogotá - colombia móvil: 03 3108652766 - 03 3007479422 emall ecofastter/mgmallcom.'"
            ]
          },
          "execution_count": 25,
          "metadata": {},
          "output_type": "execute_result"
        }
      ],
      "source": [
        "texto"
      ]
    },
    {
      "cell_type": "code",
      "execution_count": null,
      "metadata": {
        "colab": {
          "base_uri": "https://localhost:8080/"
        },
        "id": "TfshXSF-cuzn",
        "outputId": "f19eb1c9-e625-4ca0-978a-d9a601ca177a"
      },
      "outputs": [
        {
          "name": "stdout",
          "output_type": "stream",
          "text": [
            "Cargo: None\n"
          ]
        }
      ],
      "source": [
        "import spacy\n",
        "from spacy.matcher import Matcher\n",
        "\n",
        "# Cargar el modelo en español\n",
        "nlp = spacy.load(\"es_core_news_sm\")\n",
        "\n",
        "matcher = Matcher(nlp.vocab)\n",
        "\n",
        "pattern = [{\"LOWER\": \"cargo\"}, {\"IS_PUNCT\": True, \"OP\": \"?\"}, {\"IS_SPACE\": True, \"OP\": \"?\"}, {\"POS\": \"NOUN\", \"OP\": \"+\"}]\n",
        "matcher.add(\"CARGO_PATTERN\", [pattern])\n",
        "\n",
        "\n",
        "# Procesar el texto con modelo\n",
        "doc = nlp(texto)\n",
        "\n",
        "# Buscar coincidencias\n",
        "matches = matcher(doc)\n",
        "\n",
        "cargo = None\n",
        "\n",
        "for match_id, start, end in matches:\n",
        "    span = doc[start:end]\n",
        "    cargo = span.text\n",
        "\n",
        "# Resultado\n",
        "print(\"Cargo:\", cargo)\n"
      ]
    },
    {
      "cell_type": "code",
      "execution_count": 15,
      "metadata": {
        "colab": {
          "base_uri": "https://localhost:8080/"
        },
        "id": "m16BlVzLeCpB",
        "outputId": "fc2d044e-5958-4df0-c7f3-a3e9c1b43213"
      },
      "outputs": [
        {
          "name": "stdout",
          "output_type": "stream",
          "text": [
            "{'nombre': 'joaquin alonso oquendo bustamante', 'cargo': None, 'salario': None, 'empresa': None}\n"
          ]
        }
      ],
      "source": [
        "import spacy\n",
        "\n",
        "# Cargando modelito en español\n",
        "nlp = spacy.load(\"es_core_news_sm\")\n",
        "\n",
        "# Función para preprocesar texto\n",
        "def preprocesar_texto(texto):\n",
        "    texto = texto.lower()\n",
        "    return texto\n",
        "\n",
        "# Función para extraer información usando modelo\n",
        "def extraer_datos_spacy(texto):\n",
        "    texto = preprocesar_texto(texto)\n",
        "    doc = nlp(texto)\n",
        "\n",
        "    datos = {\n",
        "        \"nombre\": None,\n",
        "        \"cargo\": None,\n",
        "        \"salario\": None,\n",
        "        \"empresa\": None,\n",
        "    }\n",
        "\n",
        "    # Capturando entidades\n",
        "    for ent in doc.ents:\n",
        "        if ent.label_ == \"PER\":\n",
        "            datos[\"nombre\"] = ent.text\n",
        "        elif ent.label_ == \"ORG\":\n",
        "            datos[\"empresa\"] = ent.text\n",
        "        elif ent.label_ == \"MONEY\":\n",
        "            datos[\"salario\"] = ent.text\n",
        "\n",
        "    for token in doc:\n",
        "        if token.text == \"cargo que desempeña\":\n",
        "            datos[\"cargo\"] = \" \".join([t.text for t in token.subtree if t.pos_ == \"NOUN\"])\n",
        "\n",
        "    return datos\n",
        "\n",
        "informacion = extraer_datos_spacy(texto)\n",
        "print(informacion)"
      ]
    },
    {
      "cell_type": "code",
      "execution_count": null,
      "metadata": {
        "id": "uwIAuXW7ecgL"
      },
      "outputs": [],
      "source": [
        "eco fasttersas 9 nit. 901.084,2718 t la directora de recursos humanos hace constar que el señor a joaquin alonso oquendo bustamante, identificado con cedula de ciudadanía n 1.007.285,143 expedida en el bagre antioquia, se encuentra vinculado laboralmente con nuestra compañía mediante contrato laboral en los siguientes términos cargo que desempeña oficial de construcción. fecha de vinculación trece 13 días del mes de marzo del año dos mil dieciocho 2018, clase de contrato por obra o labor realizada ingresos mensuales en 2018 un millón trescientos mil pesos 51.300.000.00 mílegal, más bonificaciones de quinientos mil pesos $500.000.00, por producción de metas. nota el pago de estas bonificaciones se otorgan según cumplimientos de metas y de programación de la obra, pudiendo variar según la entrega de obras en tiempos más cortos, los montos son pactados de mutuo acuerdo entre las partes, no siendo base salarial de acuerdo al art. 128 del código sustantivo del trabajo, slendo quinientos cincuenta y cinco mil seiscientos cincuenta pesos 5636.192.00, el cien por ciento como máximo para el beneficio, el proyecto donde laboramos actualmente está ubicado kilómetro 2.5 sobre la variante cajicá zipaquirá, contrato firmado con el grupo empresarial oikos. sas. la presente se expide a solicitud del trabajador a los veintiocho 28 días del mes de septiembre de dos mil dieciocho 2.018 cordialmente. oficina carrera 38 no, 945 oficina 535 bogotá colombia móvil 03 3108652766 03 3007479422 emall ecofasttermgmallcom."
      ]
    },
    {
      "cell_type": "code",
      "execution_count": null,
      "metadata": {
        "colab": {
          "base_uri": "https://localhost:8080/",
          "height": 122
        },
        "id": "NEiytdYteNt1",
        "outputId": "56f205dc-8efa-4a35-aa45-6c8ee119303b"
      },
      "outputs": [
        {
          "data": {
            "application/vnd.google.colaboratory.intrinsic+json": {
              "type": "string"
            },
            "text/plain": [
              "'eco fasttersas 9 nit. 901.084,2718 t la directora de recursos humanos hace constar que el señor a joaquin alonso oquendo bustamante, identificado con cedula de ciudadanía n 1.007.285,143 expedida en el bagre antioquia, se encuentra vinculado laboralmente con nuestra compañía mediante contrato laboral en los siguientes términos cargo que desempeña oficial de construcción. fecha de vinculación trece 13 días del mes de marzo del año dos mil dieciocho 2018, clase de contrato por obra o labor realizada ingresos mensuales en 2018 un millón trescientos mil pesos 51.300.000.00 mílegal, más bonificaciones de quinientos mil pesos $500.000.00, por producción de metas. nota el pago de estas bonificaciones se otorgan según cumplimientos de metas y de programación de la obra, pudiendo variar según la entrega de obras en tiempos más cortos, los montos son pactados de mutuo acuerdo entre las partes, no siendo base salarial de acuerdo al art. 128 del código sustantivo del trabajo, slendo quinientos cincuenta y cinco mil seiscientos cincuenta pesos 5636.192.00, el cien por ciento como máximo para el beneficio, el proyecto donde laboramos actualmente está ubicado kilómetro 2.5 sobre la variante cajicá zipaquirá, contrato firmado con el grupo empresarial oikos. sas. la presente se expide a solicitud del trabajador a los veintiocho 28 días del mes de septiembre de dos mil dieciocho 2.018 cordialmente. oficina carrera 38 no, 945 oficina 535 bogotá colombia móvil 03 3108652766 03 3007479422 emall ecofasttermgmallcom.'"
            ]
          },
          "execution_count": 26,
          "metadata": {},
          "output_type": "execute_result"
        }
      ],
      "source": [
        "texto"
      ]
    },
    {
      "cell_type": "code",
      "execution_count": 23,
      "metadata": {
        "id": "NdMbJV8SffvM"
      },
      "outputs": [],
      "source": [
        "import re\n",
        "import spacy\n",
        "\n",
        "nlp = spacy.load(\"es_core_news_sm\")\n",
        "\n",
        "def normalizar_texto(texto):\n",
        "    texto = texto.lower()\n",
        "\n",
        "    texto = re.sub(r'[^a-záéíóúñ\\s0-9$.,:]', '', texto)\n",
        "\n",
        "    texto = texto.replace(\"uno\", \"1\").replace(\"dos\", \"2\").replace(\"tres\", \"3\").replace(\"cuatro\", \"4\")\n",
        "\n",
        "    return texto\n"
      ]
    },
    {
      "cell_type": "code",
      "execution_count": 17,
      "metadata": {
        "id": "bxNoPXZBfiLs"
      },
      "outputs": [],
      "source": [
        "def extraer_datos_spacy(texto):\n",
        "    texto = normalizar_texto(texto)\n",
        "    doc = nlp(texto)\n",
        "\n",
        "    datos = {\n",
        "        \"nombre\": None,\n",
        "        \"cargo\": None,\n",
        "        \"salario\": None,\n",
        "        \"empresa\": None,\n",
        "        \"fecha_vinculacion\": None,\n",
        "    }\n",
        "\n",
        "    for ent in doc.ents:\n",
        "        if ent.label_ == \"PER\":\n",
        "            datos[\"nombre\"] = ent.text\n",
        "        elif ent.label_ == \"ORG\":\n",
        "            datos[\"empresa\"] = ent.text\n",
        "        elif ent.label_ == \"MONEY\":\n",
        "            datos[\"salario\"] = ent.text\n",
        "        elif ent.label_ == \"DATE\":\n",
        "            if \"vinculación\" in texto or \"firma\" in texto:\n",
        "                datos[\"fecha_vinculacion\"] = ent.text\n",
        "\n",
        "    if \"cargo\" in texto:\n",
        "        match_cargo = re.search(r'cargo[\\s:]+([a-záéíóúñ\\s]+)', texto)\n",
        "        if match_cargo:\n",
        "            datos[\"cargo\"] = match_cargo.group(1).strip()\n",
        "\n",
        "    return datos"
      ]
    },
    {
      "cell_type": "code",
      "execution_count": 18,
      "metadata": {
        "colab": {
          "base_uri": "https://localhost:8080/"
        },
        "id": "E6mm5_2Ifjip",
        "outputId": "d4afccc8-ba46-47cc-938a-fbbbe2d98f0c"
      },
      "outputs": [
        {
          "name": "stdout",
          "output_type": "stream",
          "text": [
            "{'nombre': 'vinculación', 'cargo': 'que desempeña oficial de construcción', 'salario': None, 'empresa': None, 'fecha_vinculacion': None}\n"
          ]
        }
      ],
      "source": [
        "# ejemplo\n",
        "texto_ejemplo = \"\"\"\n",
        "eco fasttersas 9 nit. 901.084,2718 t la directora de recursos humanos hace constar que el señor a joaquin alonso oquendo bustamante, identificado con cedula de ciudadanía n 1.007.285,143 expedida en el bagre antioquia, se encuentra vinculado laboralmente con nuestra compañía mediante contrato laboral en los siguientes términos cargo que desempeña oficial de construcción. fecha de vinculación trece 13 días del mes de marzo del año dos mil dieciocho 2018, clase de contrato por obra o labor realizada ingresos mensuales en 2018 un millón trescientos mil pesos 51.300.000.00 mílegal, más bonificaciones de quinientos mil pesos $500.000.00, por producción de metas. nota el pago de estas bonificaciones se otorgan según cumplimientos de metas y de programación de la obra, pudiendo variar según la entrega de obras en tiempos más cortos, los montos son pactados de mutuo acuerdo entre las partes, no siendo base salarial de acuerdo al art. 128 del código sustantivo del trabajo, slendo quinientos cincuenta y cinco mil seiscientos cincuenta pesos 5636.192.00, el cien por ciento como máximo para el beneficio, el proyecto donde laboramos actualmente está ubicado kilómetro 2.5 sobre la variante cajicá zipaquirá, contrato firmado con el grupo empresarial oikos. sas. la presente se expide a solicitud del trabajador a los veintiocho 28 días del mes de septiembre de dos mil dieciocho 2.018 cordialmente. oficina carrera 38 no, 945 oficina 535 bogotá colombia móvil 03 3108652766 03 3007479422 emall ecofasttermgmallcom.\n",
        "\"\"\"\n",
        "\n",
        "informacion = extraer_datos_spacy(texto_ejemplo)\n",
        "print(informacion)"
      ]
    },
    {
      "cell_type": "code",
      "execution_count": 19,
      "metadata": {
        "id": "ImQ57Cmjf9H3"
      },
      "outputs": [],
      "source": [
        "def extraer_salario(texto):\n",
        "    salario = re.search(r'(\\$?[\\d,]+(?:\\.\\d{2})?)', texto)\n",
        "\n",
        "    if salario:\n",
        "\n",
        "        return salario.group(1).strip()\n",
        "\n",
        "    return None"
      ]
    },
    {
      "cell_type": "code",
      "execution_count": null,
      "metadata": {
        "colab": {
          "base_uri": "https://localhost:8080/"
        },
        "id": "ebxjHno2gBIa",
        "outputId": "6612dd33-65a8-4bae-dc9a-15a91f790d07"
      },
      "outputs": [
        {
          "name": "stdout",
          "output_type": "stream",
          "text": [
            "Salario extraído: 9\n"
          ]
        }
      ],
      "source": [
        "texto_ejemplo = \"\"\"\n",
        "eco fasttersas 9 nit. 901.084,2718 t la directora de recursos humanos hace constar que el señor a joaquin alonso oquendo bustamante, identificado con cedula de ciudadanía n 1.007.285,143 expedida en el bagre antioquia, se encuentra vinculado laboralmente con nuestra compañía mediante contrato laboral en los siguientes términos cargo que desempeña oficial de construcción. fecha de vinculación trece 13 días del mes de marzo del año dos mil dieciocho 2018, clase de contrato por obra o labor realizada ingresos mensuales en 2018 un millón trescientos mil pesos 51.300.000.00 mílegal, más bonificaciones de quinientos mil pesos $500.000.00, por producción de metas. nota el pago de estas bonificaciones se otorgan según cumplimientos de metas y de programación de la obra, pudiendo variar según la entrega de obras en tiempos más cortos, los montos son pactados de mutuo acuerdo entre las partes, no siendo base salarial de acuerdo al art. 128 del código sustantivo del trabajo, slendo quinientos cincuenta y cinco mil seiscientos cincuenta pesos 5636.192.00, el cien por ciento como máximo para el beneficio, el proyecto donde laboramos actualmente está ubicado kilómetro 2.5 sobre la variante cajicá zipaquirá, contrato firmado con el grupo empresarial oikos. sas. la presente se expide a solicitud del trabajador a los veintiocho 28 días del mes de septiembre de dos mil dieciocho 2.018 cordialmente. oficina carrera 38 no, 945 oficina 535 bogotá colombia móvil 03 3108652766 03 3007479422 emall ecofasttermgmallcom.\n",
        "\"\"\"\n",
        "\n",
        "salario_extraido = extraer_salario(texto_ejemplo)\n",
        "print(\"Salario extraído:\", salario_extraido)"
      ]
    },
    {
      "cell_type": "code",
      "execution_count": 21,
      "metadata": {
        "colab": {
          "base_uri": "https://localhost:8080/",
          "height": 420,
          "referenced_widgets": [
            "31a2f5003f4f4c839fc074f983fb6d94",
            "7424426e531f40468b619c35d8771671",
            "8cc8cd61c6204442a564413a258b8938",
            "63739babd6274db5ac8d442c0dc2e137",
            "0871ff780b404861abc9b5b5b7a59a62",
            "d83806bd63524d80961164319f66b797",
            "40e36ecb6e9c4a60b443c1035c2e35aa",
            "9b74894e38084e70b65185b569c0d501",
            "12bdb23df41646eebacb18886fbcc7d9",
            "c129fc77259443b7ade8e757edbecebc",
            "5efc32716b364ad8b7f4c24e74ba768a",
            "81efb798017a4b5db10c80222dfde8ac",
            "6af7a48eacee4383be104bf1706b8aaa",
            "cb34610bd13c409f898a1ae46609093c",
            "b54d7dcdd45f414ea0a25ed83a79f7c4",
            "5c98b87d640b4ef881aeea4ee1c8efdd",
            "c66a59a89289419f8f36e24ee438bafb",
            "2490c692abe24c5db9f843bc1c672a41",
            "29df15114fa04caf9fe203d8d367353b",
            "e65ea430738142eda6c2f1bcf79c2275",
            "6e09f09455124d768198ff661850b137",
            "7a69a10e1c674eb3b7572e911650319b",
            "16a60bff5d914dde96054b6b985ebe60",
            "ebe0025b7ce64052a6d82cc55c749307",
            "9c574f73b9aa4e4998fadadd36f6c681",
            "9199acbca1734494961f748e3361b32b",
            "f456fb8b82e645b9b8f4b0631fea8816",
            "211cd566bc1b435d8ba54a1452aaa282",
            "b9fb95a7458c4f7e9d1ac02c738237e0",
            "d56443ea2afe4f2baf6bf0c38b8ff008",
            "7957bafea2f04442a09e458ca4927ac3",
            "299bfcb457a64e4d89a7f91e3a5fb4e9",
            "c98f452003fe4ef28bcb678384c492c0",
            "35eb71360a3c4ea9a993b4a22482bc91",
            "2e322a754693423296ab642a711fb375",
            "04148531c19d40178f40f91ea6e32744",
            "1c7728e735634146a1d706d6cf3a4c66",
            "c7bb35d8f8ff4c4d9bc68eac3e0ff909",
            "41235f7d9620437aa3abc22fc1fbcc86",
            "6a40b210a6b34b0d9010296b9e9c0d63",
            "39d423e0ce5c47b3aab701d8f2113fdc",
            "42fd4a29c08f4af581ee9a66cdcba7ba",
            "0deab2c4e37e47699c57032e6b97ce34",
            "feacc75783a24156a933518918349748",
            "d6b0b8bc632e40159a0a4e00dea0ac01",
            "c6fc27ff73d54ef38182204e2b032534",
            "950e0ca4cd0f4e6baec706ee47d74d37",
            "ec4e0a04fcdd423494e96acfb913cbcd",
            "7f1f3944049f4d099549993f7367abb4",
            "9a6b4d391b3d438a99821374f140caf5",
            "19c9642d204b49eab8900cacc4c05860",
            "ab9dcf8313cb42ff8db78686f9457553",
            "8e61e0bd70c44f5e9deadfcfa3e0df48",
            "6b8f3e18197f420ca06a12bec787d447",
            "df2fee567dfd4382a643e610dd0233e6"
          ]
        },
        "id": "yvE_vytOkHlz",
        "outputId": "422fcc9f-82d7-4558-9d2a-a7f90bf63b1b"
      },
      "outputs": [
        {
          "name": "stderr",
          "output_type": "stream",
          "text": [
            "/usr/local/lib/python3.10/dist-packages/huggingface_hub/utils/_auth.py:94: UserWarning: \n",
            "The secret `HF_TOKEN` does not exist in your Colab secrets.\n",
            "To authenticate with the Hugging Face Hub, create a token in your settings tab (https://huggingface.co/settings/tokens), set it as secret in your Google Colab and restart your session.\n",
            "You will be able to reuse this secret in all of your notebooks.\n",
            "Please note that authentication is recommended but still optional to access public models or datasets.\n",
            "  warnings.warn(\n"
          ]
        },
        {
          "data": {
            "application/vnd.jupyter.widget-view+json": {
              "model_id": "31a2f5003f4f4c839fc074f983fb6d94",
              "version_major": 2,
              "version_minor": 0
            },
            "text/plain": [
              "config.json:   0%|          | 0.00/1.10k [00:00<?, ?B/s]"
            ]
          },
          "metadata": {},
          "output_type": "display_data"
        },
        {
          "data": {
            "application/vnd.jupyter.widget-view+json": {
              "model_id": "81efb798017a4b5db10c80222dfde8ac",
              "version_major": 2,
              "version_minor": 0
            },
            "text/plain": [
              "model.safetensors:   0%|          | 0.00/709M [00:00<?, ?B/s]"
            ]
          },
          "metadata": {},
          "output_type": "display_data"
        },
        {
          "data": {
            "application/vnd.jupyter.widget-view+json": {
              "model_id": "16a60bff5d914dde96054b6b985ebe60",
              "version_major": 2,
              "version_minor": 0
            },
            "text/plain": [
              "tokenizer_config.json:   0%|          | 0.00/264 [00:00<?, ?B/s]"
            ]
          },
          "metadata": {},
          "output_type": "display_data"
        },
        {
          "data": {
            "application/vnd.jupyter.widget-view+json": {
              "model_id": "35eb71360a3c4ea9a993b4a22482bc91",
              "version_major": 2,
              "version_minor": 0
            },
            "text/plain": [
              "vocab.txt:   0%|          | 0.00/996k [00:00<?, ?B/s]"
            ]
          },
          "metadata": {},
          "output_type": "display_data"
        },
        {
          "data": {
            "application/vnd.jupyter.widget-view+json": {
              "model_id": "d6b0b8bc632e40159a0a4e00dea0ac01",
              "version_major": 2,
              "version_minor": 0
            },
            "text/plain": [
              "special_tokens_map.json:   0%|          | 0.00/112 [00:00<?, ?B/s]"
            ]
          },
          "metadata": {},
          "output_type": "display_data"
        },
        {
          "name": "stdout",
          "output_type": "stream",
          "text": [
            "{'entity': 'B-PER', 'score': 0.99988437, 'index': 10, 'word': 'Joaquín', 'start': 51, 'end': 58}\n",
            "{'entity': 'I-PER', 'score': 0.9998361, 'index': 11, 'word': 'Alonso', 'start': 59, 'end': 65}\n",
            "{'entity': 'I-PER', 'score': 0.9997638, 'index': 12, 'word': 'O', 'start': 66, 'end': 67}\n",
            "{'entity': 'I-PER', 'score': 0.9997894, 'index': 13, 'word': '##quen', 'start': 67, 'end': 71}\n",
            "{'entity': 'I-PER', 'score': 0.9998128, 'index': 14, 'word': '##do', 'start': 71, 'end': 73}\n",
            "{'entity': 'I-PER', 'score': 0.99971133, 'index': 15, 'word': 'Bus', 'start': 74, 'end': 77}\n",
            "{'entity': 'I-PER', 'score': 0.99965906, 'index': 16, 'word': '##tama', 'start': 77, 'end': 81}\n",
            "{'entity': 'I-PER', 'score': 0.99971527, 'index': 17, 'word': '##nte', 'start': 81, 'end': 84}\n"
          ]
        }
      ],
      "source": [
        "#probando mas cositas\n",
        "from transformers import pipeline\n",
        "\n",
        "ner_pipeline = pipeline(\"ner\", model=\"Davlan/bert-base-multilingual-cased-ner-hrl\")\n",
        "\n",
        "texto = \"\"\"\n",
        "La directora de recursos humanos hace constar que Joaquín Alonso Oquendo Bustamante, vinculado por prestacion de servicios a la empresa celerix\n",
        "\"\"\"\n",
        "\n",
        "entidades = ner_pipeline(texto)\n",
        "\n",
        "for entidad in entidades:\n",
        "    print(entidad)"
      ]
    },
    {
      "cell_type": "code",
      "execution_count": 22,
      "metadata": {
        "colab": {
          "base_uri": "https://localhost:8080/"
        },
        "id": "D1gUuoSPk65a",
        "outputId": "e4959bb0-c465-435e-c425-b305d1361093"
      },
      "outputs": [
        {
          "name": "stdout",
          "output_type": "stream",
          "text": [
            "La empresa es: \n"
          ]
        }
      ],
      "source": [
        "from transformers import pipeline\n",
        "\n",
        "# Modelo preentrenado para reconocer empresas\n",
        "ner_pipeline = pipeline(\"ner\", model=\"Davlan/bert-base-multilingual-cased-ner-hrl\")\n",
        "\n",
        "texto = \"\"\"\n",
        "La directora de recursos humanos hace constar que Joaquín Alonso Oquendo Bustamante, vinculado a la empresa celerix\n",
        "\"\"\"\n",
        "\n",
        "entidades = ner_pipeline(texto)\n",
        "\n",
        "empresa = []\n",
        "for entidad in entidades:\n",
        "    if entidad['entity'].startswith('B-ORG') or entidad['entity'].startswith('I-ORG'):\n",
        "        empresa.append(entidad['word'])\n",
        "\n",
        "empresa = \" \".join(empresa)\n",
        "print(f\"La empresa es: {empresa}\")"
      ]
    }
  ],
  "metadata": {
    "colab": {
      "provenance": []
    },
    "kernelspec": {
      "display_name": "env_fraudu",
      "language": "python",
      "name": "python3"
    },
    "language_info": {
      "codemirror_mode": {
        "name": "ipython",
        "version": 3
      },
      "file_extension": ".py",
      "mimetype": "text/x-python",
      "name": "python",
      "nbconvert_exporter": "python",
      "pygments_lexer": "ipython3",
      "version": "3.9.6"
    },
    "widgets": {
      "application/vnd.jupyter.widget-state+json": {
        "04148531c19d40178f40f91ea6e32744": {
          "model_module": "@jupyter-widgets/controls",
          "model_module_version": "1.5.0",
          "model_name": "FloatProgressModel",
          "state": {
            "_dom_classes": [],
            "_model_module": "@jupyter-widgets/controls",
            "_model_module_version": "1.5.0",
            "_model_name": "FloatProgressModel",
            "_view_count": null,
            "_view_module": "@jupyter-widgets/controls",
            "_view_module_version": "1.5.0",
            "_view_name": "ProgressView",
            "bar_style": "success",
            "description": "",
            "description_tooltip": null,
            "layout": "IPY_MODEL_39d423e0ce5c47b3aab701d8f2113fdc",
            "max": 995526,
            "min": 0,
            "orientation": "horizontal",
            "style": "IPY_MODEL_42fd4a29c08f4af581ee9a66cdcba7ba",
            "value": 995526
          }
        },
        "0871ff780b404861abc9b5b5b7a59a62": {
          "model_module": "@jupyter-widgets/base",
          "model_module_version": "1.2.0",
          "model_name": "LayoutModel",
          "state": {
            "_model_module": "@jupyter-widgets/base",
            "_model_module_version": "1.2.0",
            "_model_name": "LayoutModel",
            "_view_count": null,
            "_view_module": "@jupyter-widgets/base",
            "_view_module_version": "1.2.0",
            "_view_name": "LayoutView",
            "align_content": null,
            "align_items": null,
            "align_self": null,
            "border": null,
            "bottom": null,
            "display": null,
            "flex": null,
            "flex_flow": null,
            "grid_area": null,
            "grid_auto_columns": null,
            "grid_auto_flow": null,
            "grid_auto_rows": null,
            "grid_column": null,
            "grid_gap": null,
            "grid_row": null,
            "grid_template_areas": null,
            "grid_template_columns": null,
            "grid_template_rows": null,
            "height": null,
            "justify_content": null,
            "justify_items": null,
            "left": null,
            "margin": null,
            "max_height": null,
            "max_width": null,
            "min_height": null,
            "min_width": null,
            "object_fit": null,
            "object_position": null,
            "order": null,
            "overflow": null,
            "overflow_x": null,
            "overflow_y": null,
            "padding": null,
            "right": null,
            "top": null,
            "visibility": null,
            "width": null
          }
        },
        "0deab2c4e37e47699c57032e6b97ce34": {
          "model_module": "@jupyter-widgets/base",
          "model_module_version": "1.2.0",
          "model_name": "LayoutModel",
          "state": {
            "_model_module": "@jupyter-widgets/base",
            "_model_module_version": "1.2.0",
            "_model_name": "LayoutModel",
            "_view_count": null,
            "_view_module": "@jupyter-widgets/base",
            "_view_module_version": "1.2.0",
            "_view_name": "LayoutView",
            "align_content": null,
            "align_items": null,
            "align_self": null,
            "border": null,
            "bottom": null,
            "display": null,
            "flex": null,
            "flex_flow": null,
            "grid_area": null,
            "grid_auto_columns": null,
            "grid_auto_flow": null,
            "grid_auto_rows": null,
            "grid_column": null,
            "grid_gap": null,
            "grid_row": null,
            "grid_template_areas": null,
            "grid_template_columns": null,
            "grid_template_rows": null,
            "height": null,
            "justify_content": null,
            "justify_items": null,
            "left": null,
            "margin": null,
            "max_height": null,
            "max_width": null,
            "min_height": null,
            "min_width": null,
            "object_fit": null,
            "object_position": null,
            "order": null,
            "overflow": null,
            "overflow_x": null,
            "overflow_y": null,
            "padding": null,
            "right": null,
            "top": null,
            "visibility": null,
            "width": null
          }
        },
        "12bdb23df41646eebacb18886fbcc7d9": {
          "model_module": "@jupyter-widgets/controls",
          "model_module_version": "1.5.0",
          "model_name": "ProgressStyleModel",
          "state": {
            "_model_module": "@jupyter-widgets/controls",
            "_model_module_version": "1.5.0",
            "_model_name": "ProgressStyleModel",
            "_view_count": null,
            "_view_module": "@jupyter-widgets/base",
            "_view_module_version": "1.2.0",
            "_view_name": "StyleView",
            "bar_color": null,
            "description_width": ""
          }
        },
        "16a60bff5d914dde96054b6b985ebe60": {
          "model_module": "@jupyter-widgets/controls",
          "model_module_version": "1.5.0",
          "model_name": "HBoxModel",
          "state": {
            "_dom_classes": [],
            "_model_module": "@jupyter-widgets/controls",
            "_model_module_version": "1.5.0",
            "_model_name": "HBoxModel",
            "_view_count": null,
            "_view_module": "@jupyter-widgets/controls",
            "_view_module_version": "1.5.0",
            "_view_name": "HBoxView",
            "box_style": "",
            "children": [
              "IPY_MODEL_ebe0025b7ce64052a6d82cc55c749307",
              "IPY_MODEL_9c574f73b9aa4e4998fadadd36f6c681",
              "IPY_MODEL_9199acbca1734494961f748e3361b32b"
            ],
            "layout": "IPY_MODEL_f456fb8b82e645b9b8f4b0631fea8816"
          }
        },
        "19c9642d204b49eab8900cacc4c05860": {
          "model_module": "@jupyter-widgets/controls",
          "model_module_version": "1.5.0",
          "model_name": "DescriptionStyleModel",
          "state": {
            "_model_module": "@jupyter-widgets/controls",
            "_model_module_version": "1.5.0",
            "_model_name": "DescriptionStyleModel",
            "_view_count": null,
            "_view_module": "@jupyter-widgets/base",
            "_view_module_version": "1.2.0",
            "_view_name": "StyleView",
            "description_width": ""
          }
        },
        "1c7728e735634146a1d706d6cf3a4c66": {
          "model_module": "@jupyter-widgets/controls",
          "model_module_version": "1.5.0",
          "model_name": "HTMLModel",
          "state": {
            "_dom_classes": [],
            "_model_module": "@jupyter-widgets/controls",
            "_model_module_version": "1.5.0",
            "_model_name": "HTMLModel",
            "_view_count": null,
            "_view_module": "@jupyter-widgets/controls",
            "_view_module_version": "1.5.0",
            "_view_name": "HTMLView",
            "description": "",
            "description_tooltip": null,
            "layout": "IPY_MODEL_0deab2c4e37e47699c57032e6b97ce34",
            "placeholder": "​",
            "style": "IPY_MODEL_feacc75783a24156a933518918349748",
            "value": " 996k/996k [00:00&lt;00:00, 5.90MB/s]"
          }
        },
        "211cd566bc1b435d8ba54a1452aaa282": {
          "model_module": "@jupyter-widgets/base",
          "model_module_version": "1.2.0",
          "model_name": "LayoutModel",
          "state": {
            "_model_module": "@jupyter-widgets/base",
            "_model_module_version": "1.2.0",
            "_model_name": "LayoutModel",
            "_view_count": null,
            "_view_module": "@jupyter-widgets/base",
            "_view_module_version": "1.2.0",
            "_view_name": "LayoutView",
            "align_content": null,
            "align_items": null,
            "align_self": null,
            "border": null,
            "bottom": null,
            "display": null,
            "flex": null,
            "flex_flow": null,
            "grid_area": null,
            "grid_auto_columns": null,
            "grid_auto_flow": null,
            "grid_auto_rows": null,
            "grid_column": null,
            "grid_gap": null,
            "grid_row": null,
            "grid_template_areas": null,
            "grid_template_columns": null,
            "grid_template_rows": null,
            "height": null,
            "justify_content": null,
            "justify_items": null,
            "left": null,
            "margin": null,
            "max_height": null,
            "max_width": null,
            "min_height": null,
            "min_width": null,
            "object_fit": null,
            "object_position": null,
            "order": null,
            "overflow": null,
            "overflow_x": null,
            "overflow_y": null,
            "padding": null,
            "right": null,
            "top": null,
            "visibility": null,
            "width": null
          }
        },
        "2490c692abe24c5db9f843bc1c672a41": {
          "model_module": "@jupyter-widgets/controls",
          "model_module_version": "1.5.0",
          "model_name": "DescriptionStyleModel",
          "state": {
            "_model_module": "@jupyter-widgets/controls",
            "_model_module_version": "1.5.0",
            "_model_name": "DescriptionStyleModel",
            "_view_count": null,
            "_view_module": "@jupyter-widgets/base",
            "_view_module_version": "1.2.0",
            "_view_name": "StyleView",
            "description_width": ""
          }
        },
        "299bfcb457a64e4d89a7f91e3a5fb4e9": {
          "model_module": "@jupyter-widgets/base",
          "model_module_version": "1.2.0",
          "model_name": "LayoutModel",
          "state": {
            "_model_module": "@jupyter-widgets/base",
            "_model_module_version": "1.2.0",
            "_model_name": "LayoutModel",
            "_view_count": null,
            "_view_module": "@jupyter-widgets/base",
            "_view_module_version": "1.2.0",
            "_view_name": "LayoutView",
            "align_content": null,
            "align_items": null,
            "align_self": null,
            "border": null,
            "bottom": null,
            "display": null,
            "flex": null,
            "flex_flow": null,
            "grid_area": null,
            "grid_auto_columns": null,
            "grid_auto_flow": null,
            "grid_auto_rows": null,
            "grid_column": null,
            "grid_gap": null,
            "grid_row": null,
            "grid_template_areas": null,
            "grid_template_columns": null,
            "grid_template_rows": null,
            "height": null,
            "justify_content": null,
            "justify_items": null,
            "left": null,
            "margin": null,
            "max_height": null,
            "max_width": null,
            "min_height": null,
            "min_width": null,
            "object_fit": null,
            "object_position": null,
            "order": null,
            "overflow": null,
            "overflow_x": null,
            "overflow_y": null,
            "padding": null,
            "right": null,
            "top": null,
            "visibility": null,
            "width": null
          }
        },
        "29df15114fa04caf9fe203d8d367353b": {
          "model_module": "@jupyter-widgets/base",
          "model_module_version": "1.2.0",
          "model_name": "LayoutModel",
          "state": {
            "_model_module": "@jupyter-widgets/base",
            "_model_module_version": "1.2.0",
            "_model_name": "LayoutModel",
            "_view_count": null,
            "_view_module": "@jupyter-widgets/base",
            "_view_module_version": "1.2.0",
            "_view_name": "LayoutView",
            "align_content": null,
            "align_items": null,
            "align_self": null,
            "border": null,
            "bottom": null,
            "display": null,
            "flex": null,
            "flex_flow": null,
            "grid_area": null,
            "grid_auto_columns": null,
            "grid_auto_flow": null,
            "grid_auto_rows": null,
            "grid_column": null,
            "grid_gap": null,
            "grid_row": null,
            "grid_template_areas": null,
            "grid_template_columns": null,
            "grid_template_rows": null,
            "height": null,
            "justify_content": null,
            "justify_items": null,
            "left": null,
            "margin": null,
            "max_height": null,
            "max_width": null,
            "min_height": null,
            "min_width": null,
            "object_fit": null,
            "object_position": null,
            "order": null,
            "overflow": null,
            "overflow_x": null,
            "overflow_y": null,
            "padding": null,
            "right": null,
            "top": null,
            "visibility": null,
            "width": null
          }
        },
        "2e322a754693423296ab642a711fb375": {
          "model_module": "@jupyter-widgets/controls",
          "model_module_version": "1.5.0",
          "model_name": "HTMLModel",
          "state": {
            "_dom_classes": [],
            "_model_module": "@jupyter-widgets/controls",
            "_model_module_version": "1.5.0",
            "_model_name": "HTMLModel",
            "_view_count": null,
            "_view_module": "@jupyter-widgets/controls",
            "_view_module_version": "1.5.0",
            "_view_name": "HTMLView",
            "description": "",
            "description_tooltip": null,
            "layout": "IPY_MODEL_41235f7d9620437aa3abc22fc1fbcc86",
            "placeholder": "​",
            "style": "IPY_MODEL_6a40b210a6b34b0d9010296b9e9c0d63",
            "value": "vocab.txt: 100%"
          }
        },
        "31a2f5003f4f4c839fc074f983fb6d94": {
          "model_module": "@jupyter-widgets/controls",
          "model_module_version": "1.5.0",
          "model_name": "HBoxModel",
          "state": {
            "_dom_classes": [],
            "_model_module": "@jupyter-widgets/controls",
            "_model_module_version": "1.5.0",
            "_model_name": "HBoxModel",
            "_view_count": null,
            "_view_module": "@jupyter-widgets/controls",
            "_view_module_version": "1.5.0",
            "_view_name": "HBoxView",
            "box_style": "",
            "children": [
              "IPY_MODEL_7424426e531f40468b619c35d8771671",
              "IPY_MODEL_8cc8cd61c6204442a564413a258b8938",
              "IPY_MODEL_63739babd6274db5ac8d442c0dc2e137"
            ],
            "layout": "IPY_MODEL_0871ff780b404861abc9b5b5b7a59a62"
          }
        },
        "35eb71360a3c4ea9a993b4a22482bc91": {
          "model_module": "@jupyter-widgets/controls",
          "model_module_version": "1.5.0",
          "model_name": "HBoxModel",
          "state": {
            "_dom_classes": [],
            "_model_module": "@jupyter-widgets/controls",
            "_model_module_version": "1.5.0",
            "_model_name": "HBoxModel",
            "_view_count": null,
            "_view_module": "@jupyter-widgets/controls",
            "_view_module_version": "1.5.0",
            "_view_name": "HBoxView",
            "box_style": "",
            "children": [
              "IPY_MODEL_2e322a754693423296ab642a711fb375",
              "IPY_MODEL_04148531c19d40178f40f91ea6e32744",
              "IPY_MODEL_1c7728e735634146a1d706d6cf3a4c66"
            ],
            "layout": "IPY_MODEL_c7bb35d8f8ff4c4d9bc68eac3e0ff909"
          }
        },
        "39d423e0ce5c47b3aab701d8f2113fdc": {
          "model_module": "@jupyter-widgets/base",
          "model_module_version": "1.2.0",
          "model_name": "LayoutModel",
          "state": {
            "_model_module": "@jupyter-widgets/base",
            "_model_module_version": "1.2.0",
            "_model_name": "LayoutModel",
            "_view_count": null,
            "_view_module": "@jupyter-widgets/base",
            "_view_module_version": "1.2.0",
            "_view_name": "LayoutView",
            "align_content": null,
            "align_items": null,
            "align_self": null,
            "border": null,
            "bottom": null,
            "display": null,
            "flex": null,
            "flex_flow": null,
            "grid_area": null,
            "grid_auto_columns": null,
            "grid_auto_flow": null,
            "grid_auto_rows": null,
            "grid_column": null,
            "grid_gap": null,
            "grid_row": null,
            "grid_template_areas": null,
            "grid_template_columns": null,
            "grid_template_rows": null,
            "height": null,
            "justify_content": null,
            "justify_items": null,
            "left": null,
            "margin": null,
            "max_height": null,
            "max_width": null,
            "min_height": null,
            "min_width": null,
            "object_fit": null,
            "object_position": null,
            "order": null,
            "overflow": null,
            "overflow_x": null,
            "overflow_y": null,
            "padding": null,
            "right": null,
            "top": null,
            "visibility": null,
            "width": null
          }
        },
        "40e36ecb6e9c4a60b443c1035c2e35aa": {
          "model_module": "@jupyter-widgets/controls",
          "model_module_version": "1.5.0",
          "model_name": "DescriptionStyleModel",
          "state": {
            "_model_module": "@jupyter-widgets/controls",
            "_model_module_version": "1.5.0",
            "_model_name": "DescriptionStyleModel",
            "_view_count": null,
            "_view_module": "@jupyter-widgets/base",
            "_view_module_version": "1.2.0",
            "_view_name": "StyleView",
            "description_width": ""
          }
        },
        "41235f7d9620437aa3abc22fc1fbcc86": {
          "model_module": "@jupyter-widgets/base",
          "model_module_version": "1.2.0",
          "model_name": "LayoutModel",
          "state": {
            "_model_module": "@jupyter-widgets/base",
            "_model_module_version": "1.2.0",
            "_model_name": "LayoutModel",
            "_view_count": null,
            "_view_module": "@jupyter-widgets/base",
            "_view_module_version": "1.2.0",
            "_view_name": "LayoutView",
            "align_content": null,
            "align_items": null,
            "align_self": null,
            "border": null,
            "bottom": null,
            "display": null,
            "flex": null,
            "flex_flow": null,
            "grid_area": null,
            "grid_auto_columns": null,
            "grid_auto_flow": null,
            "grid_auto_rows": null,
            "grid_column": null,
            "grid_gap": null,
            "grid_row": null,
            "grid_template_areas": null,
            "grid_template_columns": null,
            "grid_template_rows": null,
            "height": null,
            "justify_content": null,
            "justify_items": null,
            "left": null,
            "margin": null,
            "max_height": null,
            "max_width": null,
            "min_height": null,
            "min_width": null,
            "object_fit": null,
            "object_position": null,
            "order": null,
            "overflow": null,
            "overflow_x": null,
            "overflow_y": null,
            "padding": null,
            "right": null,
            "top": null,
            "visibility": null,
            "width": null
          }
        },
        "42fd4a29c08f4af581ee9a66cdcba7ba": {
          "model_module": "@jupyter-widgets/controls",
          "model_module_version": "1.5.0",
          "model_name": "ProgressStyleModel",
          "state": {
            "_model_module": "@jupyter-widgets/controls",
            "_model_module_version": "1.5.0",
            "_model_name": "ProgressStyleModel",
            "_view_count": null,
            "_view_module": "@jupyter-widgets/base",
            "_view_module_version": "1.2.0",
            "_view_name": "StyleView",
            "bar_color": null,
            "description_width": ""
          }
        },
        "5c98b87d640b4ef881aeea4ee1c8efdd": {
          "model_module": "@jupyter-widgets/base",
          "model_module_version": "1.2.0",
          "model_name": "LayoutModel",
          "state": {
            "_model_module": "@jupyter-widgets/base",
            "_model_module_version": "1.2.0",
            "_model_name": "LayoutModel",
            "_view_count": null,
            "_view_module": "@jupyter-widgets/base",
            "_view_module_version": "1.2.0",
            "_view_name": "LayoutView",
            "align_content": null,
            "align_items": null,
            "align_self": null,
            "border": null,
            "bottom": null,
            "display": null,
            "flex": null,
            "flex_flow": null,
            "grid_area": null,
            "grid_auto_columns": null,
            "grid_auto_flow": null,
            "grid_auto_rows": null,
            "grid_column": null,
            "grid_gap": null,
            "grid_row": null,
            "grid_template_areas": null,
            "grid_template_columns": null,
            "grid_template_rows": null,
            "height": null,
            "justify_content": null,
            "justify_items": null,
            "left": null,
            "margin": null,
            "max_height": null,
            "max_width": null,
            "min_height": null,
            "min_width": null,
            "object_fit": null,
            "object_position": null,
            "order": null,
            "overflow": null,
            "overflow_x": null,
            "overflow_y": null,
            "padding": null,
            "right": null,
            "top": null,
            "visibility": null,
            "width": null
          }
        },
        "5efc32716b364ad8b7f4c24e74ba768a": {
          "model_module": "@jupyter-widgets/controls",
          "model_module_version": "1.5.0",
          "model_name": "DescriptionStyleModel",
          "state": {
            "_model_module": "@jupyter-widgets/controls",
            "_model_module_version": "1.5.0",
            "_model_name": "DescriptionStyleModel",
            "_view_count": null,
            "_view_module": "@jupyter-widgets/base",
            "_view_module_version": "1.2.0",
            "_view_name": "StyleView",
            "description_width": ""
          }
        },
        "63739babd6274db5ac8d442c0dc2e137": {
          "model_module": "@jupyter-widgets/controls",
          "model_module_version": "1.5.0",
          "model_name": "HTMLModel",
          "state": {
            "_dom_classes": [],
            "_model_module": "@jupyter-widgets/controls",
            "_model_module_version": "1.5.0",
            "_model_name": "HTMLModel",
            "_view_count": null,
            "_view_module": "@jupyter-widgets/controls",
            "_view_module_version": "1.5.0",
            "_view_name": "HTMLView",
            "description": "",
            "description_tooltip": null,
            "layout": "IPY_MODEL_c129fc77259443b7ade8e757edbecebc",
            "placeholder": "​",
            "style": "IPY_MODEL_5efc32716b364ad8b7f4c24e74ba768a",
            "value": " 1.10k/1.10k [00:00&lt;00:00, 67.0kB/s]"
          }
        },
        "6a40b210a6b34b0d9010296b9e9c0d63": {
          "model_module": "@jupyter-widgets/controls",
          "model_module_version": "1.5.0",
          "model_name": "DescriptionStyleModel",
          "state": {
            "_model_module": "@jupyter-widgets/controls",
            "_model_module_version": "1.5.0",
            "_model_name": "DescriptionStyleModel",
            "_view_count": null,
            "_view_module": "@jupyter-widgets/base",
            "_view_module_version": "1.2.0",
            "_view_name": "StyleView",
            "description_width": ""
          }
        },
        "6af7a48eacee4383be104bf1706b8aaa": {
          "model_module": "@jupyter-widgets/controls",
          "model_module_version": "1.5.0",
          "model_name": "HTMLModel",
          "state": {
            "_dom_classes": [],
            "_model_module": "@jupyter-widgets/controls",
            "_model_module_version": "1.5.0",
            "_model_name": "HTMLModel",
            "_view_count": null,
            "_view_module": "@jupyter-widgets/controls",
            "_view_module_version": "1.5.0",
            "_view_name": "HTMLView",
            "description": "",
            "description_tooltip": null,
            "layout": "IPY_MODEL_c66a59a89289419f8f36e24ee438bafb",
            "placeholder": "​",
            "style": "IPY_MODEL_2490c692abe24c5db9f843bc1c672a41",
            "value": "model.safetensors: 100%"
          }
        },
        "6b8f3e18197f420ca06a12bec787d447": {
          "model_module": "@jupyter-widgets/base",
          "model_module_version": "1.2.0",
          "model_name": "LayoutModel",
          "state": {
            "_model_module": "@jupyter-widgets/base",
            "_model_module_version": "1.2.0",
            "_model_name": "LayoutModel",
            "_view_count": null,
            "_view_module": "@jupyter-widgets/base",
            "_view_module_version": "1.2.0",
            "_view_name": "LayoutView",
            "align_content": null,
            "align_items": null,
            "align_self": null,
            "border": null,
            "bottom": null,
            "display": null,
            "flex": null,
            "flex_flow": null,
            "grid_area": null,
            "grid_auto_columns": null,
            "grid_auto_flow": null,
            "grid_auto_rows": null,
            "grid_column": null,
            "grid_gap": null,
            "grid_row": null,
            "grid_template_areas": null,
            "grid_template_columns": null,
            "grid_template_rows": null,
            "height": null,
            "justify_content": null,
            "justify_items": null,
            "left": null,
            "margin": null,
            "max_height": null,
            "max_width": null,
            "min_height": null,
            "min_width": null,
            "object_fit": null,
            "object_position": null,
            "order": null,
            "overflow": null,
            "overflow_x": null,
            "overflow_y": null,
            "padding": null,
            "right": null,
            "top": null,
            "visibility": null,
            "width": null
          }
        },
        "6e09f09455124d768198ff661850b137": {
          "model_module": "@jupyter-widgets/base",
          "model_module_version": "1.2.0",
          "model_name": "LayoutModel",
          "state": {
            "_model_module": "@jupyter-widgets/base",
            "_model_module_version": "1.2.0",
            "_model_name": "LayoutModel",
            "_view_count": null,
            "_view_module": "@jupyter-widgets/base",
            "_view_module_version": "1.2.0",
            "_view_name": "LayoutView",
            "align_content": null,
            "align_items": null,
            "align_self": null,
            "border": null,
            "bottom": null,
            "display": null,
            "flex": null,
            "flex_flow": null,
            "grid_area": null,
            "grid_auto_columns": null,
            "grid_auto_flow": null,
            "grid_auto_rows": null,
            "grid_column": null,
            "grid_gap": null,
            "grid_row": null,
            "grid_template_areas": null,
            "grid_template_columns": null,
            "grid_template_rows": null,
            "height": null,
            "justify_content": null,
            "justify_items": null,
            "left": null,
            "margin": null,
            "max_height": null,
            "max_width": null,
            "min_height": null,
            "min_width": null,
            "object_fit": null,
            "object_position": null,
            "order": null,
            "overflow": null,
            "overflow_x": null,
            "overflow_y": null,
            "padding": null,
            "right": null,
            "top": null,
            "visibility": null,
            "width": null
          }
        },
        "7424426e531f40468b619c35d8771671": {
          "model_module": "@jupyter-widgets/controls",
          "model_module_version": "1.5.0",
          "model_name": "HTMLModel",
          "state": {
            "_dom_classes": [],
            "_model_module": "@jupyter-widgets/controls",
            "_model_module_version": "1.5.0",
            "_model_name": "HTMLModel",
            "_view_count": null,
            "_view_module": "@jupyter-widgets/controls",
            "_view_module_version": "1.5.0",
            "_view_name": "HTMLView",
            "description": "",
            "description_tooltip": null,
            "layout": "IPY_MODEL_d83806bd63524d80961164319f66b797",
            "placeholder": "​",
            "style": "IPY_MODEL_40e36ecb6e9c4a60b443c1035c2e35aa",
            "value": "config.json: 100%"
          }
        },
        "7957bafea2f04442a09e458ca4927ac3": {
          "model_module": "@jupyter-widgets/controls",
          "model_module_version": "1.5.0",
          "model_name": "ProgressStyleModel",
          "state": {
            "_model_module": "@jupyter-widgets/controls",
            "_model_module_version": "1.5.0",
            "_model_name": "ProgressStyleModel",
            "_view_count": null,
            "_view_module": "@jupyter-widgets/base",
            "_view_module_version": "1.2.0",
            "_view_name": "StyleView",
            "bar_color": null,
            "description_width": ""
          }
        },
        "7a69a10e1c674eb3b7572e911650319b": {
          "model_module": "@jupyter-widgets/controls",
          "model_module_version": "1.5.0",
          "model_name": "DescriptionStyleModel",
          "state": {
            "_model_module": "@jupyter-widgets/controls",
            "_model_module_version": "1.5.0",
            "_model_name": "DescriptionStyleModel",
            "_view_count": null,
            "_view_module": "@jupyter-widgets/base",
            "_view_module_version": "1.2.0",
            "_view_name": "StyleView",
            "description_width": ""
          }
        },
        "7f1f3944049f4d099549993f7367abb4": {
          "model_module": "@jupyter-widgets/base",
          "model_module_version": "1.2.0",
          "model_name": "LayoutModel",
          "state": {
            "_model_module": "@jupyter-widgets/base",
            "_model_module_version": "1.2.0",
            "_model_name": "LayoutModel",
            "_view_count": null,
            "_view_module": "@jupyter-widgets/base",
            "_view_module_version": "1.2.0",
            "_view_name": "LayoutView",
            "align_content": null,
            "align_items": null,
            "align_self": null,
            "border": null,
            "bottom": null,
            "display": null,
            "flex": null,
            "flex_flow": null,
            "grid_area": null,
            "grid_auto_columns": null,
            "grid_auto_flow": null,
            "grid_auto_rows": null,
            "grid_column": null,
            "grid_gap": null,
            "grid_row": null,
            "grid_template_areas": null,
            "grid_template_columns": null,
            "grid_template_rows": null,
            "height": null,
            "justify_content": null,
            "justify_items": null,
            "left": null,
            "margin": null,
            "max_height": null,
            "max_width": null,
            "min_height": null,
            "min_width": null,
            "object_fit": null,
            "object_position": null,
            "order": null,
            "overflow": null,
            "overflow_x": null,
            "overflow_y": null,
            "padding": null,
            "right": null,
            "top": null,
            "visibility": null,
            "width": null
          }
        },
        "81efb798017a4b5db10c80222dfde8ac": {
          "model_module": "@jupyter-widgets/controls",
          "model_module_version": "1.5.0",
          "model_name": "HBoxModel",
          "state": {
            "_dom_classes": [],
            "_model_module": "@jupyter-widgets/controls",
            "_model_module_version": "1.5.0",
            "_model_name": "HBoxModel",
            "_view_count": null,
            "_view_module": "@jupyter-widgets/controls",
            "_view_module_version": "1.5.0",
            "_view_name": "HBoxView",
            "box_style": "",
            "children": [
              "IPY_MODEL_6af7a48eacee4383be104bf1706b8aaa",
              "IPY_MODEL_cb34610bd13c409f898a1ae46609093c",
              "IPY_MODEL_b54d7dcdd45f414ea0a25ed83a79f7c4"
            ],
            "layout": "IPY_MODEL_5c98b87d640b4ef881aeea4ee1c8efdd"
          }
        },
        "8cc8cd61c6204442a564413a258b8938": {
          "model_module": "@jupyter-widgets/controls",
          "model_module_version": "1.5.0",
          "model_name": "FloatProgressModel",
          "state": {
            "_dom_classes": [],
            "_model_module": "@jupyter-widgets/controls",
            "_model_module_version": "1.5.0",
            "_model_name": "FloatProgressModel",
            "_view_count": null,
            "_view_module": "@jupyter-widgets/controls",
            "_view_module_version": "1.5.0",
            "_view_name": "ProgressView",
            "bar_style": "success",
            "description": "",
            "description_tooltip": null,
            "layout": "IPY_MODEL_9b74894e38084e70b65185b569c0d501",
            "max": 1105,
            "min": 0,
            "orientation": "horizontal",
            "style": "IPY_MODEL_12bdb23df41646eebacb18886fbcc7d9",
            "value": 1105
          }
        },
        "8e61e0bd70c44f5e9deadfcfa3e0df48": {
          "model_module": "@jupyter-widgets/controls",
          "model_module_version": "1.5.0",
          "model_name": "ProgressStyleModel",
          "state": {
            "_model_module": "@jupyter-widgets/controls",
            "_model_module_version": "1.5.0",
            "_model_name": "ProgressStyleModel",
            "_view_count": null,
            "_view_module": "@jupyter-widgets/base",
            "_view_module_version": "1.2.0",
            "_view_name": "StyleView",
            "bar_color": null,
            "description_width": ""
          }
        },
        "9199acbca1734494961f748e3361b32b": {
          "model_module": "@jupyter-widgets/controls",
          "model_module_version": "1.5.0",
          "model_name": "HTMLModel",
          "state": {
            "_dom_classes": [],
            "_model_module": "@jupyter-widgets/controls",
            "_model_module_version": "1.5.0",
            "_model_name": "HTMLModel",
            "_view_count": null,
            "_view_module": "@jupyter-widgets/controls",
            "_view_module_version": "1.5.0",
            "_view_name": "HTMLView",
            "description": "",
            "description_tooltip": null,
            "layout": "IPY_MODEL_299bfcb457a64e4d89a7f91e3a5fb4e9",
            "placeholder": "​",
            "style": "IPY_MODEL_c98f452003fe4ef28bcb678384c492c0",
            "value": " 264/264 [00:00&lt;00:00, 5.68kB/s]"
          }
        },
        "950e0ca4cd0f4e6baec706ee47d74d37": {
          "model_module": "@jupyter-widgets/controls",
          "model_module_version": "1.5.0",
          "model_name": "FloatProgressModel",
          "state": {
            "_dom_classes": [],
            "_model_module": "@jupyter-widgets/controls",
            "_model_module_version": "1.5.0",
            "_model_name": "FloatProgressModel",
            "_view_count": null,
            "_view_module": "@jupyter-widgets/controls",
            "_view_module_version": "1.5.0",
            "_view_name": "ProgressView",
            "bar_style": "success",
            "description": "",
            "description_tooltip": null,
            "layout": "IPY_MODEL_ab9dcf8313cb42ff8db78686f9457553",
            "max": 112,
            "min": 0,
            "orientation": "horizontal",
            "style": "IPY_MODEL_8e61e0bd70c44f5e9deadfcfa3e0df48",
            "value": 112
          }
        },
        "9a6b4d391b3d438a99821374f140caf5": {
          "model_module": "@jupyter-widgets/base",
          "model_module_version": "1.2.0",
          "model_name": "LayoutModel",
          "state": {
            "_model_module": "@jupyter-widgets/base",
            "_model_module_version": "1.2.0",
            "_model_name": "LayoutModel",
            "_view_count": null,
            "_view_module": "@jupyter-widgets/base",
            "_view_module_version": "1.2.0",
            "_view_name": "LayoutView",
            "align_content": null,
            "align_items": null,
            "align_self": null,
            "border": null,
            "bottom": null,
            "display": null,
            "flex": null,
            "flex_flow": null,
            "grid_area": null,
            "grid_auto_columns": null,
            "grid_auto_flow": null,
            "grid_auto_rows": null,
            "grid_column": null,
            "grid_gap": null,
            "grid_row": null,
            "grid_template_areas": null,
            "grid_template_columns": null,
            "grid_template_rows": null,
            "height": null,
            "justify_content": null,
            "justify_items": null,
            "left": null,
            "margin": null,
            "max_height": null,
            "max_width": null,
            "min_height": null,
            "min_width": null,
            "object_fit": null,
            "object_position": null,
            "order": null,
            "overflow": null,
            "overflow_x": null,
            "overflow_y": null,
            "padding": null,
            "right": null,
            "top": null,
            "visibility": null,
            "width": null
          }
        },
        "9b74894e38084e70b65185b569c0d501": {
          "model_module": "@jupyter-widgets/base",
          "model_module_version": "1.2.0",
          "model_name": "LayoutModel",
          "state": {
            "_model_module": "@jupyter-widgets/base",
            "_model_module_version": "1.2.0",
            "_model_name": "LayoutModel",
            "_view_count": null,
            "_view_module": "@jupyter-widgets/base",
            "_view_module_version": "1.2.0",
            "_view_name": "LayoutView",
            "align_content": null,
            "align_items": null,
            "align_self": null,
            "border": null,
            "bottom": null,
            "display": null,
            "flex": null,
            "flex_flow": null,
            "grid_area": null,
            "grid_auto_columns": null,
            "grid_auto_flow": null,
            "grid_auto_rows": null,
            "grid_column": null,
            "grid_gap": null,
            "grid_row": null,
            "grid_template_areas": null,
            "grid_template_columns": null,
            "grid_template_rows": null,
            "height": null,
            "justify_content": null,
            "justify_items": null,
            "left": null,
            "margin": null,
            "max_height": null,
            "max_width": null,
            "min_height": null,
            "min_width": null,
            "object_fit": null,
            "object_position": null,
            "order": null,
            "overflow": null,
            "overflow_x": null,
            "overflow_y": null,
            "padding": null,
            "right": null,
            "top": null,
            "visibility": null,
            "width": null
          }
        },
        "9c574f73b9aa4e4998fadadd36f6c681": {
          "model_module": "@jupyter-widgets/controls",
          "model_module_version": "1.5.0",
          "model_name": "FloatProgressModel",
          "state": {
            "_dom_classes": [],
            "_model_module": "@jupyter-widgets/controls",
            "_model_module_version": "1.5.0",
            "_model_name": "FloatProgressModel",
            "_view_count": null,
            "_view_module": "@jupyter-widgets/controls",
            "_view_module_version": "1.5.0",
            "_view_name": "ProgressView",
            "bar_style": "success",
            "description": "",
            "description_tooltip": null,
            "layout": "IPY_MODEL_d56443ea2afe4f2baf6bf0c38b8ff008",
            "max": 264,
            "min": 0,
            "orientation": "horizontal",
            "style": "IPY_MODEL_7957bafea2f04442a09e458ca4927ac3",
            "value": 264
          }
        },
        "ab9dcf8313cb42ff8db78686f9457553": {
          "model_module": "@jupyter-widgets/base",
          "model_module_version": "1.2.0",
          "model_name": "LayoutModel",
          "state": {
            "_model_module": "@jupyter-widgets/base",
            "_model_module_version": "1.2.0",
            "_model_name": "LayoutModel",
            "_view_count": null,
            "_view_module": "@jupyter-widgets/base",
            "_view_module_version": "1.2.0",
            "_view_name": "LayoutView",
            "align_content": null,
            "align_items": null,
            "align_self": null,
            "border": null,
            "bottom": null,
            "display": null,
            "flex": null,
            "flex_flow": null,
            "grid_area": null,
            "grid_auto_columns": null,
            "grid_auto_flow": null,
            "grid_auto_rows": null,
            "grid_column": null,
            "grid_gap": null,
            "grid_row": null,
            "grid_template_areas": null,
            "grid_template_columns": null,
            "grid_template_rows": null,
            "height": null,
            "justify_content": null,
            "justify_items": null,
            "left": null,
            "margin": null,
            "max_height": null,
            "max_width": null,
            "min_height": null,
            "min_width": null,
            "object_fit": null,
            "object_position": null,
            "order": null,
            "overflow": null,
            "overflow_x": null,
            "overflow_y": null,
            "padding": null,
            "right": null,
            "top": null,
            "visibility": null,
            "width": null
          }
        },
        "b54d7dcdd45f414ea0a25ed83a79f7c4": {
          "model_module": "@jupyter-widgets/controls",
          "model_module_version": "1.5.0",
          "model_name": "HTMLModel",
          "state": {
            "_dom_classes": [],
            "_model_module": "@jupyter-widgets/controls",
            "_model_module_version": "1.5.0",
            "_model_name": "HTMLModel",
            "_view_count": null,
            "_view_module": "@jupyter-widgets/controls",
            "_view_module_version": "1.5.0",
            "_view_name": "HTMLView",
            "description": "",
            "description_tooltip": null,
            "layout": "IPY_MODEL_6e09f09455124d768198ff661850b137",
            "placeholder": "​",
            "style": "IPY_MODEL_7a69a10e1c674eb3b7572e911650319b",
            "value": " 709M/709M [00:07&lt;00:00, 135MB/s]"
          }
        },
        "b9fb95a7458c4f7e9d1ac02c738237e0": {
          "model_module": "@jupyter-widgets/controls",
          "model_module_version": "1.5.0",
          "model_name": "DescriptionStyleModel",
          "state": {
            "_model_module": "@jupyter-widgets/controls",
            "_model_module_version": "1.5.0",
            "_model_name": "DescriptionStyleModel",
            "_view_count": null,
            "_view_module": "@jupyter-widgets/base",
            "_view_module_version": "1.2.0",
            "_view_name": "StyleView",
            "description_width": ""
          }
        },
        "c129fc77259443b7ade8e757edbecebc": {
          "model_module": "@jupyter-widgets/base",
          "model_module_version": "1.2.0",
          "model_name": "LayoutModel",
          "state": {
            "_model_module": "@jupyter-widgets/base",
            "_model_module_version": "1.2.0",
            "_model_name": "LayoutModel",
            "_view_count": null,
            "_view_module": "@jupyter-widgets/base",
            "_view_module_version": "1.2.0",
            "_view_name": "LayoutView",
            "align_content": null,
            "align_items": null,
            "align_self": null,
            "border": null,
            "bottom": null,
            "display": null,
            "flex": null,
            "flex_flow": null,
            "grid_area": null,
            "grid_auto_columns": null,
            "grid_auto_flow": null,
            "grid_auto_rows": null,
            "grid_column": null,
            "grid_gap": null,
            "grid_row": null,
            "grid_template_areas": null,
            "grid_template_columns": null,
            "grid_template_rows": null,
            "height": null,
            "justify_content": null,
            "justify_items": null,
            "left": null,
            "margin": null,
            "max_height": null,
            "max_width": null,
            "min_height": null,
            "min_width": null,
            "object_fit": null,
            "object_position": null,
            "order": null,
            "overflow": null,
            "overflow_x": null,
            "overflow_y": null,
            "padding": null,
            "right": null,
            "top": null,
            "visibility": null,
            "width": null
          }
        },
        "c66a59a89289419f8f36e24ee438bafb": {
          "model_module": "@jupyter-widgets/base",
          "model_module_version": "1.2.0",
          "model_name": "LayoutModel",
          "state": {
            "_model_module": "@jupyter-widgets/base",
            "_model_module_version": "1.2.0",
            "_model_name": "LayoutModel",
            "_view_count": null,
            "_view_module": "@jupyter-widgets/base",
            "_view_module_version": "1.2.0",
            "_view_name": "LayoutView",
            "align_content": null,
            "align_items": null,
            "align_self": null,
            "border": null,
            "bottom": null,
            "display": null,
            "flex": null,
            "flex_flow": null,
            "grid_area": null,
            "grid_auto_columns": null,
            "grid_auto_flow": null,
            "grid_auto_rows": null,
            "grid_column": null,
            "grid_gap": null,
            "grid_row": null,
            "grid_template_areas": null,
            "grid_template_columns": null,
            "grid_template_rows": null,
            "height": null,
            "justify_content": null,
            "justify_items": null,
            "left": null,
            "margin": null,
            "max_height": null,
            "max_width": null,
            "min_height": null,
            "min_width": null,
            "object_fit": null,
            "object_position": null,
            "order": null,
            "overflow": null,
            "overflow_x": null,
            "overflow_y": null,
            "padding": null,
            "right": null,
            "top": null,
            "visibility": null,
            "width": null
          }
        },
        "c6fc27ff73d54ef38182204e2b032534": {
          "model_module": "@jupyter-widgets/controls",
          "model_module_version": "1.5.0",
          "model_name": "HTMLModel",
          "state": {
            "_dom_classes": [],
            "_model_module": "@jupyter-widgets/controls",
            "_model_module_version": "1.5.0",
            "_model_name": "HTMLModel",
            "_view_count": null,
            "_view_module": "@jupyter-widgets/controls",
            "_view_module_version": "1.5.0",
            "_view_name": "HTMLView",
            "description": "",
            "description_tooltip": null,
            "layout": "IPY_MODEL_9a6b4d391b3d438a99821374f140caf5",
            "placeholder": "​",
            "style": "IPY_MODEL_19c9642d204b49eab8900cacc4c05860",
            "value": "special_tokens_map.json: 100%"
          }
        },
        "c7bb35d8f8ff4c4d9bc68eac3e0ff909": {
          "model_module": "@jupyter-widgets/base",
          "model_module_version": "1.2.0",
          "model_name": "LayoutModel",
          "state": {
            "_model_module": "@jupyter-widgets/base",
            "_model_module_version": "1.2.0",
            "_model_name": "LayoutModel",
            "_view_count": null,
            "_view_module": "@jupyter-widgets/base",
            "_view_module_version": "1.2.0",
            "_view_name": "LayoutView",
            "align_content": null,
            "align_items": null,
            "align_self": null,
            "border": null,
            "bottom": null,
            "display": null,
            "flex": null,
            "flex_flow": null,
            "grid_area": null,
            "grid_auto_columns": null,
            "grid_auto_flow": null,
            "grid_auto_rows": null,
            "grid_column": null,
            "grid_gap": null,
            "grid_row": null,
            "grid_template_areas": null,
            "grid_template_columns": null,
            "grid_template_rows": null,
            "height": null,
            "justify_content": null,
            "justify_items": null,
            "left": null,
            "margin": null,
            "max_height": null,
            "max_width": null,
            "min_height": null,
            "min_width": null,
            "object_fit": null,
            "object_position": null,
            "order": null,
            "overflow": null,
            "overflow_x": null,
            "overflow_y": null,
            "padding": null,
            "right": null,
            "top": null,
            "visibility": null,
            "width": null
          }
        },
        "c98f452003fe4ef28bcb678384c492c0": {
          "model_module": "@jupyter-widgets/controls",
          "model_module_version": "1.5.0",
          "model_name": "DescriptionStyleModel",
          "state": {
            "_model_module": "@jupyter-widgets/controls",
            "_model_module_version": "1.5.0",
            "_model_name": "DescriptionStyleModel",
            "_view_count": null,
            "_view_module": "@jupyter-widgets/base",
            "_view_module_version": "1.2.0",
            "_view_name": "StyleView",
            "description_width": ""
          }
        },
        "cb34610bd13c409f898a1ae46609093c": {
          "model_module": "@jupyter-widgets/controls",
          "model_module_version": "1.5.0",
          "model_name": "FloatProgressModel",
          "state": {
            "_dom_classes": [],
            "_model_module": "@jupyter-widgets/controls",
            "_model_module_version": "1.5.0",
            "_model_name": "FloatProgressModel",
            "_view_count": null,
            "_view_module": "@jupyter-widgets/controls",
            "_view_module_version": "1.5.0",
            "_view_name": "ProgressView",
            "bar_style": "success",
            "description": "",
            "description_tooltip": null,
            "layout": "IPY_MODEL_29df15114fa04caf9fe203d8d367353b",
            "max": 709106620,
            "min": 0,
            "orientation": "horizontal",
            "style": "IPY_MODEL_e65ea430738142eda6c2f1bcf79c2275",
            "value": 709106620
          }
        },
        "d56443ea2afe4f2baf6bf0c38b8ff008": {
          "model_module": "@jupyter-widgets/base",
          "model_module_version": "1.2.0",
          "model_name": "LayoutModel",
          "state": {
            "_model_module": "@jupyter-widgets/base",
            "_model_module_version": "1.2.0",
            "_model_name": "LayoutModel",
            "_view_count": null,
            "_view_module": "@jupyter-widgets/base",
            "_view_module_version": "1.2.0",
            "_view_name": "LayoutView",
            "align_content": null,
            "align_items": null,
            "align_self": null,
            "border": null,
            "bottom": null,
            "display": null,
            "flex": null,
            "flex_flow": null,
            "grid_area": null,
            "grid_auto_columns": null,
            "grid_auto_flow": null,
            "grid_auto_rows": null,
            "grid_column": null,
            "grid_gap": null,
            "grid_row": null,
            "grid_template_areas": null,
            "grid_template_columns": null,
            "grid_template_rows": null,
            "height": null,
            "justify_content": null,
            "justify_items": null,
            "left": null,
            "margin": null,
            "max_height": null,
            "max_width": null,
            "min_height": null,
            "min_width": null,
            "object_fit": null,
            "object_position": null,
            "order": null,
            "overflow": null,
            "overflow_x": null,
            "overflow_y": null,
            "padding": null,
            "right": null,
            "top": null,
            "visibility": null,
            "width": null
          }
        },
        "d6b0b8bc632e40159a0a4e00dea0ac01": {
          "model_module": "@jupyter-widgets/controls",
          "model_module_version": "1.5.0",
          "model_name": "HBoxModel",
          "state": {
            "_dom_classes": [],
            "_model_module": "@jupyter-widgets/controls",
            "_model_module_version": "1.5.0",
            "_model_name": "HBoxModel",
            "_view_count": null,
            "_view_module": "@jupyter-widgets/controls",
            "_view_module_version": "1.5.0",
            "_view_name": "HBoxView",
            "box_style": "",
            "children": [
              "IPY_MODEL_c6fc27ff73d54ef38182204e2b032534",
              "IPY_MODEL_950e0ca4cd0f4e6baec706ee47d74d37",
              "IPY_MODEL_ec4e0a04fcdd423494e96acfb913cbcd"
            ],
            "layout": "IPY_MODEL_7f1f3944049f4d099549993f7367abb4"
          }
        },
        "d83806bd63524d80961164319f66b797": {
          "model_module": "@jupyter-widgets/base",
          "model_module_version": "1.2.0",
          "model_name": "LayoutModel",
          "state": {
            "_model_module": "@jupyter-widgets/base",
            "_model_module_version": "1.2.0",
            "_model_name": "LayoutModel",
            "_view_count": null,
            "_view_module": "@jupyter-widgets/base",
            "_view_module_version": "1.2.0",
            "_view_name": "LayoutView",
            "align_content": null,
            "align_items": null,
            "align_self": null,
            "border": null,
            "bottom": null,
            "display": null,
            "flex": null,
            "flex_flow": null,
            "grid_area": null,
            "grid_auto_columns": null,
            "grid_auto_flow": null,
            "grid_auto_rows": null,
            "grid_column": null,
            "grid_gap": null,
            "grid_row": null,
            "grid_template_areas": null,
            "grid_template_columns": null,
            "grid_template_rows": null,
            "height": null,
            "justify_content": null,
            "justify_items": null,
            "left": null,
            "margin": null,
            "max_height": null,
            "max_width": null,
            "min_height": null,
            "min_width": null,
            "object_fit": null,
            "object_position": null,
            "order": null,
            "overflow": null,
            "overflow_x": null,
            "overflow_y": null,
            "padding": null,
            "right": null,
            "top": null,
            "visibility": null,
            "width": null
          }
        },
        "df2fee567dfd4382a643e610dd0233e6": {
          "model_module": "@jupyter-widgets/controls",
          "model_module_version": "1.5.0",
          "model_name": "DescriptionStyleModel",
          "state": {
            "_model_module": "@jupyter-widgets/controls",
            "_model_module_version": "1.5.0",
            "_model_name": "DescriptionStyleModel",
            "_view_count": null,
            "_view_module": "@jupyter-widgets/base",
            "_view_module_version": "1.2.0",
            "_view_name": "StyleView",
            "description_width": ""
          }
        },
        "e65ea430738142eda6c2f1bcf79c2275": {
          "model_module": "@jupyter-widgets/controls",
          "model_module_version": "1.5.0",
          "model_name": "ProgressStyleModel",
          "state": {
            "_model_module": "@jupyter-widgets/controls",
            "_model_module_version": "1.5.0",
            "_model_name": "ProgressStyleModel",
            "_view_count": null,
            "_view_module": "@jupyter-widgets/base",
            "_view_module_version": "1.2.0",
            "_view_name": "StyleView",
            "bar_color": null,
            "description_width": ""
          }
        },
        "ebe0025b7ce64052a6d82cc55c749307": {
          "model_module": "@jupyter-widgets/controls",
          "model_module_version": "1.5.0",
          "model_name": "HTMLModel",
          "state": {
            "_dom_classes": [],
            "_model_module": "@jupyter-widgets/controls",
            "_model_module_version": "1.5.0",
            "_model_name": "HTMLModel",
            "_view_count": null,
            "_view_module": "@jupyter-widgets/controls",
            "_view_module_version": "1.5.0",
            "_view_name": "HTMLView",
            "description": "",
            "description_tooltip": null,
            "layout": "IPY_MODEL_211cd566bc1b435d8ba54a1452aaa282",
            "placeholder": "​",
            "style": "IPY_MODEL_b9fb95a7458c4f7e9d1ac02c738237e0",
            "value": "tokenizer_config.json: 100%"
          }
        },
        "ec4e0a04fcdd423494e96acfb913cbcd": {
          "model_module": "@jupyter-widgets/controls",
          "model_module_version": "1.5.0",
          "model_name": "HTMLModel",
          "state": {
            "_dom_classes": [],
            "_model_module": "@jupyter-widgets/controls",
            "_model_module_version": "1.5.0",
            "_model_name": "HTMLModel",
            "_view_count": null,
            "_view_module": "@jupyter-widgets/controls",
            "_view_module_version": "1.5.0",
            "_view_name": "HTMLView",
            "description": "",
            "description_tooltip": null,
            "layout": "IPY_MODEL_6b8f3e18197f420ca06a12bec787d447",
            "placeholder": "​",
            "style": "IPY_MODEL_df2fee567dfd4382a643e610dd0233e6",
            "value": " 112/112 [00:00&lt;00:00, 1.78kB/s]"
          }
        },
        "f456fb8b82e645b9b8f4b0631fea8816": {
          "model_module": "@jupyter-widgets/base",
          "model_module_version": "1.2.0",
          "model_name": "LayoutModel",
          "state": {
            "_model_module": "@jupyter-widgets/base",
            "_model_module_version": "1.2.0",
            "_model_name": "LayoutModel",
            "_view_count": null,
            "_view_module": "@jupyter-widgets/base",
            "_view_module_version": "1.2.0",
            "_view_name": "LayoutView",
            "align_content": null,
            "align_items": null,
            "align_self": null,
            "border": null,
            "bottom": null,
            "display": null,
            "flex": null,
            "flex_flow": null,
            "grid_area": null,
            "grid_auto_columns": null,
            "grid_auto_flow": null,
            "grid_auto_rows": null,
            "grid_column": null,
            "grid_gap": null,
            "grid_row": null,
            "grid_template_areas": null,
            "grid_template_columns": null,
            "grid_template_rows": null,
            "height": null,
            "justify_content": null,
            "justify_items": null,
            "left": null,
            "margin": null,
            "max_height": null,
            "max_width": null,
            "min_height": null,
            "min_width": null,
            "object_fit": null,
            "object_position": null,
            "order": null,
            "overflow": null,
            "overflow_x": null,
            "overflow_y": null,
            "padding": null,
            "right": null,
            "top": null,
            "visibility": null,
            "width": null
          }
        },
        "feacc75783a24156a933518918349748": {
          "model_module": "@jupyter-widgets/controls",
          "model_module_version": "1.5.0",
          "model_name": "DescriptionStyleModel",
          "state": {
            "_model_module": "@jupyter-widgets/controls",
            "_model_module_version": "1.5.0",
            "_model_name": "DescriptionStyleModel",
            "_view_count": null,
            "_view_module": "@jupyter-widgets/base",
            "_view_module_version": "1.2.0",
            "_view_name": "StyleView",
            "description_width": ""
          }
        }
      }
    }
  },
  "nbformat": 4,
  "nbformat_minor": 0
}
